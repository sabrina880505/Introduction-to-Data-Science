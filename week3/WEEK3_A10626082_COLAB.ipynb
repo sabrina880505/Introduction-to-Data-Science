{
  "nbformat": 4,
  "nbformat_minor": 0,
  "metadata": {
    "colab": {
      "name": "WEEK3-A10626082 COLAB.ipynb",
      "provenance": [],
      "collapsed_sections": []
    },
    "kernelspec": {
      "name": "python3",
      "display_name": "Python 3"
    }
  },
  "cells": [
    {
      "cell_type": "code",
      "metadata": {
        "colab_type": "code",
        "outputId": "519819d4-5e7d-4798-a808-bd2734a641f5",
        "id": "SDY30IYwfnS_",
        "colab": {
          "base_uri": "https://localhost:8080/",
          "height": 68
        }
      },
      "source": [
        "movie =\"Avengers Endgame\"\n",
        "time =181\n",
        "score =8.4\n",
        "\n",
        "print(movie)\n",
        "print(time)\n",
        "print(score)\n",
        "\n"
      ],
      "execution_count": 1,
      "outputs": [
        {
          "output_type": "stream",
          "text": [
            "Avengers Endgame\n",
            "181\n",
            "8.4\n"
          ],
          "name": "stdout"
        }
      ]
    },
    {
      "cell_type": "code",
      "metadata": {
        "id": "ijiJS3pVrTAD",
        "colab_type": "code",
        "outputId": "370786a5-e589-416d-f0fa-ba94d8063962",
        "colab": {
          "base_uri": "https://localhost:8080/",
          "height": 68
        }
      },
      "source": [
        "\n",
        "print(type(movie))\n",
        "print(type(time))\n",
        "print(type(score))"
      ],
      "execution_count": 2,
      "outputs": [
        {
          "output_type": "stream",
          "text": [
            "<class 'str'>\n",
            "<class 'int'>\n",
            "<class 'float'>\n"
          ],
          "name": "stdout"
        }
      ]
    },
    {
      "cell_type": "code",
      "metadata": {
        "id": "c-TfQFCJf3Rk",
        "colab_type": "code",
        "colab": {}
      },
      "source": [
        ""
      ],
      "execution_count": 0,
      "outputs": []
    }
  ]
}