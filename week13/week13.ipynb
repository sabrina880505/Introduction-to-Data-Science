{
  "nbformat": 4,
  "nbformat_minor": 0,
  "metadata": {
    "colab": {
      "name": "week13.ipynb",
      "provenance": []
    },
    "kernelspec": {
      "name": "python3",
      "display_name": "Python 3"
    }
  },
  "cells": [
    {
      "cell_type": "code",
      "metadata": {
        "id": "jK7BizCuMnWx",
        "colab_type": "code",
        "colab": {
          "base_uri": "https://localhost:8080/",
          "height": 34
        },
        "outputId": "50cdd1cb-0bb1-46e2-cceb-830764b883d0"
      },
      "source": [
        "n_vowels = 0 \n",
        "for i in 'azcbobobegghakl':\n",
        "    if i in ['a', 'e', 'i', 'o', 'u']:       \n",
        "       n_vowels += 1\n",
        "print(n_vowels)"
      ],
      "execution_count": 2,
      "outputs": [
        {
          "output_type": "stream",
          "text": [
            "5\n"
          ],
          "name": "stdout"
        }
      ]
    },
    {
      "cell_type": "code",
      "metadata": {
        "id": "fJ34H7x6N8oG",
        "colab_type": "code",
        "colab": {
          "base_uri": "https://localhost:8080/",
          "height": 34
        },
        "outputId": "02485f79-d4d3-4eb1-aa4f-9865e7be10e7"
      },
      "source": [
        "test_str = 'azcbobobegghak'\n",
        "n_char = len(test_str)\n",
        "n_bobs = 0\n",
        "for i in range(n_char - 2):    \n",
        "    if test_str[i:i+3] == 'bob':\n",
        "        n_bobs += 1\n",
        "print(n_bobs)"
      ],
      "execution_count": 5,
      "outputs": [
        {
          "output_type": "stream",
          "text": [
            "2\n"
          ],
          "name": "stdout"
        }
      ]
    },
    {
      "cell_type": "code",
      "metadata": {
        "id": "iiz0uGr-QWnB",
        "colab_type": "code",
        "colab": {
          "base_uri": "https://localhost:8080/",
          "height": 34
        },
        "outputId": "4eb89231-9683-4904-e197-3630a87e0135"
      },
      "source": [
        "x = list(range(1, 101))\n",
        "N = len(x)\n",
        "x_bar = sum(x) / N\n",
        "sse = 0\n",
        "for xi in x:    \n",
        "    squared_error = (xi - x_bar)**2\n",
        "    sse += squared_error \n",
        "sample_mse = sse / (N-1)\n",
        "sample_stdev = sample_mse**(0.5)\n",
        "print(sample_stdev)"
      ],
      "execution_count": 7,
      "outputs": [
        {
          "output_type": "stream",
          "text": [
            "29.011491975882016\n"
          ],
          "name": "stdout"
        }
      ]
    },
    {
      "cell_type": "code",
      "metadata": {
        "id": "2E5wbAqVVC_a",
        "colab_type": "code",
        "colab": {
          "base_uri": "https://localhost:8080/",
          "height": 51
        },
        "outputId": "ab6e2a88-15fd-421d-8dd0-7849896c3b7a"
      },
      "source": [
        "def absolute(x):\n",
        "    \"\"\"\n",
        "    Returns the absolute value of x.\n",
        "    \"\"\"\n",
        "    if x < 0:\n",
        "        abs_x = -x\n",
        "        print(\"{}的絕對值是{}\".format(x, abs_x))\n",
        "        return abs_x\n",
        "    else:\n",
        "        print(\"{}的絕對值是{}\".format(x, x))\n",
        "        return x\n",
        "positive_56 = absolute(-5566)\n",
        "print(positive_56)        "
      ],
      "execution_count": 9,
      "outputs": [
        {
          "output_type": "stream",
          "text": [
            "-5566的絕對值是5566\n",
            "5566\n"
          ],
          "name": "stdout"
        }
      ]
    },
    {
      "cell_type": "code",
      "metadata": {
        "id": "JXH3Zv8eggsu",
        "colab_type": "code",
        "colab": {
          "base_uri": "https://localhost:8080/",
          "height": 34
        },
        "outputId": "a70d312a-8033-4afd-8eae-54aeac9a23db"
      },
      "source": [
        "def get_bmi(height, weight):\n",
        "    \"\"\"\n",
        "    Calculate BMI based on height and weight\n",
        "    \"\"\"\n",
        "    height = height / 100\n",
        "    bmi = weight / height**2\n",
        "    return bmi\n",
        "\n",
        "get_bmi(216, 147)    "
      ],
      "execution_count": 12,
      "outputs": [
        {
          "output_type": "execute_result",
          "data": {
            "text/plain": [
              "31.507201646090532"
            ]
          },
          "metadata": {
            "tags": []
          },
          "execution_count": 12
        }
      ]
    },
    {
      "cell_type": "code",
      "metadata": {
        "id": "U7LgruYaj3-b",
        "colab_type": "code",
        "colab": {
          "base_uri": "https://localhost:8080/",
          "height": 34
        },
        "outputId": "41d815aa-86a5-4250-c346-5930139b28ab"
      },
      "source": [
        "def get_fahrenheit(x):\n",
        "    \"\"\"\n",
        "    Transform a Celsius degree into  Farenheit scale\n",
        "    \"\"\"\n",
        "    fah = x * 9/5 + 32\n",
        "    return fah\n",
        "get_fahrenheit(32)    "
      ],
      "execution_count": 13,
      "outputs": [
        {
          "output_type": "execute_result",
          "data": {
            "text/plain": [
              "89.6"
            ]
          },
          "metadata": {
            "tags": []
          },
          "execution_count": 13
        }
      ]
    },
    {
      "cell_type": "code",
      "metadata": {
        "id": "3_GsIQTfkG5y",
        "colab_type": "code",
        "colab": {}
      },
      "source": [
        ""
      ],
      "execution_count": 0,
      "outputs": []
    }
  ]
}