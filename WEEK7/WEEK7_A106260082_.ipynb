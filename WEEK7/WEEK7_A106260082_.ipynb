{
  "nbformat": 4,
  "nbformat_minor": 0,
  "metadata": {
    "colab": {
      "name": "WEEK7-A106260082 .ipynb",
      "provenance": []
    },
    "kernelspec": {
      "name": "python3",
      "display_name": "Python 3"
    }
  },
  "cells": [
    {
      "cell_type": "code",
      "metadata": {
        "id": "kxH5uVbxr5tV",
        "colab_type": "code",
        "outputId": "fbfcf192-bfe6-4050-f5cf-5993537a5c44",
        "colab": {
          "base_uri": "https://localhost:8080/",
          "height": 51
        }
      },
      "source": [
        "last_id_digit = input('請輸入身分證字號的尾數:')\n",
        "last_id_digit = int(last_id_digit)\n",
        "remainder = last_id_digit % 2\n",
        "\n",
        "if remainder == 0:\n",
        "    ans = \"偶數\"\n",
        "else:\n",
        "    ans = \"奇數\"\n",
        "\n",
        "print(\"身分證字號尾數除以2的餘數為:{}，因此為{}\".format(remainder, ans))"
      ],
      "execution_count": 0,
      "outputs": [
        {
          "output_type": "stream",
          "text": [
            "請輸入身分證字號的尾數:0\n",
            "身分證字號尾數除以2的餘數為:0，因此為偶數\n"
          ],
          "name": "stdout"
        }
      ]
    },
    {
      "cell_type": "code",
      "metadata": {
        "id": "IiWxoUmMy9kA",
        "colab_type": "code",
        "outputId": "a2e293ba-0488-4248-b891-8f2916e71a07",
        "colab": {
          "base_uri": "https://localhost:8080/",
          "height": 459
        }
      },
      "source": [
        "i = 65\n",
        "while i <= 90:\n",
        "    print(\"Character: {}, Order: {}, Binary: {}\".format(chr(i), i, bin(i)))\n",
        "    i += 1"
      ],
      "execution_count": 0,
      "outputs": [
        {
          "output_type": "stream",
          "text": [
            "Character: A, Order: 65, Binary: 0b1000001\n",
            "Character: B, Order: 66, Binary: 0b1000010\n",
            "Character: C, Order: 67, Binary: 0b1000011\n",
            "Character: D, Order: 68, Binary: 0b1000100\n",
            "Character: E, Order: 69, Binary: 0b1000101\n",
            "Character: F, Order: 70, Binary: 0b1000110\n",
            "Character: G, Order: 71, Binary: 0b1000111\n",
            "Character: H, Order: 72, Binary: 0b1001000\n",
            "Character: I, Order: 73, Binary: 0b1001001\n",
            "Character: J, Order: 74, Binary: 0b1001010\n",
            "Character: K, Order: 75, Binary: 0b1001011\n",
            "Character: L, Order: 76, Binary: 0b1001100\n",
            "Character: M, Order: 77, Binary: 0b1001101\n",
            "Character: N, Order: 78, Binary: 0b1001110\n",
            "Character: O, Order: 79, Binary: 0b1001111\n",
            "Character: P, Order: 80, Binary: 0b1010000\n",
            "Character: Q, Order: 81, Binary: 0b1010001\n",
            "Character: R, Order: 82, Binary: 0b1010010\n",
            "Character: S, Order: 83, Binary: 0b1010011\n",
            "Character: T, Order: 84, Binary: 0b1010100\n",
            "Character: U, Order: 85, Binary: 0b1010101\n",
            "Character: V, Order: 86, Binary: 0b1010110\n",
            "Character: W, Order: 87, Binary: 0b1010111\n",
            "Character: X, Order: 88, Binary: 0b1011000\n",
            "Character: Y, Order: 89, Binary: 0b1011001\n",
            "Character: Z, Order: 90, Binary: 0b1011010\n"
          ],
          "name": "stdout"
        }
      ]
    },
    {
      "cell_type": "code",
      "metadata": {
        "id": "I71Gp1C3zoxd",
        "colab_type": "code",
        "outputId": "1f63b3ef-6622-413a-9b88-ab3de4c7dac6",
        "colab": {
          "base_uri": "https://localhost:8080/",
          "height": 34
        }
      },
      "source": [
        "member_ages = [18, 20, 22, 25, 35, 42, 65]\n",
        "\n",
        "list(filter(lambda x: x <= 25 and x >= 18, member_ages))"
      ],
      "execution_count": 0,
      "outputs": [
        {
          "output_type": "execute_result",
          "data": {
            "text/plain": [
              "[18, 20, 22, 25]"
            ]
          },
          "metadata": {
            "tags": []
          },
          "execution_count": 3
        }
      ]
    },
    {
      "cell_type": "code",
      "metadata": {
        "id": "JRkL16MA06rP",
        "colab_type": "code",
        "colab": {
          "base_uri": "https://localhost:8080/",
          "height": 68
        },
        "outputId": "33b8c771-fe65-4fd4-8e76-a1ddc52b8c1a"
      },
      "source": [
        "movie_title = input('請輸入電影的名稱:')\n",
        "movie_rating = input('請輸入電影的評等:')\n",
        "movie_rating = float(movie_rating)\n",
        "\n",
        "if movie_rating > 7:\n",
        "    print(\"{}的評分為 {} 分值得去看！\".format(movie_title, movie_rating))\n",
        "if movie_rating <= 7:\n",
        "    print(\"{}的評分為 {} 分不值得去看，浪費時間！\".format(movie_title, movie_rating))"
      ],
      "execution_count": 4,
      "outputs": [
        {
          "output_type": "stream",
          "text": [
            "請輸入電影的名稱:巨齒鯊\n",
            "請輸入電影的評等:5.5\n",
            "巨齒鯊的評分為 5.5 分不值得去看，浪費時間！\n"
          ],
          "name": "stdout"
        }
      ]
    },
    {
      "cell_type": "code",
      "metadata": {
        "id": "e4j0ZWAX9xTQ",
        "colab_type": "code",
        "colab": {
          "base_uri": "https://localhost:8080/",
          "height": 102
        },
        "outputId": "49417f5c-47f8-48e8-87ab-16d86cb5ef53"
      },
      "source": [
        "monthly_income = input(\"請輸入月薪：\")\n",
        "saving_account = input(\"請輸入存款：\")\n",
        "monthly_income = int(monthly_income)\n",
        "saving_account = int(saving_account)\n",
        "print(type(monthly_income))\n",
        "print(type(saving_account))\n",
        "if monthly_income > 40000:\n",
        "    ans = \"發信用卡\"\n",
        "if saving_account > 500000:\n",
        "    ans = \"發信用卡\"\n",
        "print(ans)"
      ],
      "execution_count": 6,
      "outputs": [
        {
          "output_type": "stream",
          "text": [
            "請輸入月薪：40001\n",
            "請輸入存款：39999\n",
            "<class 'int'>\n",
            "<class 'int'>\n",
            "發信用卡\n"
          ],
          "name": "stdout"
        }
      ]
    },
    {
      "cell_type": "code",
      "metadata": {
        "id": "bK6l-o6b_vCb",
        "colab_type": "code",
        "colab": {
          "base_uri": "https://localhost:8080/",
          "height": 51
        },
        "outputId": "42e6c478-f3dc-4473-c343-71cfc0d3f4d5"
      },
      "source": [
        "#判斷奇數偶數\n",
        "user=int(input('請輸入一個正整數:'))\n",
        "if user%2 ==0:\n",
        "  print(user,'是個偶數')\n",
        "else :\n",
        "  print(user,'是個奇數')"
      ],
      "execution_count": 7,
      "outputs": [
        {
          "output_type": "stream",
          "text": [
            "請輸入一個正整數:5566\n",
            "5566 是個偶數\n"
          ],
          "name": "stdout"
        }
      ]
    },
    {
      "cell_type": "code",
      "metadata": {
        "id": "6qf_cFXrDxkF",
        "colab_type": "code",
        "colab": {
          "base_uri": "https://localhost:8080/",
          "height": 51
        },
        "outputId": "3a8e5349-eea7-46a9-bea2-9100bf093767"
      },
      "source": [
        "#依身分證字號尾數決定星期幾可以購買口罩\n",
        "id=int(input('請輸入您身分證字號的尾數：'))\n",
        "if id%2 ==0:\n",
        "  print('星期二四六日領')\n",
        "else :\n",
        "  print('星期一三五日領')"
      ],
      "execution_count": 8,
      "outputs": [
        {
          "output_type": "stream",
          "text": [
            "請輸入您身分證字號的尾數：1\n",
            "星期一三五日領\n"
          ],
          "name": "stdout"
        }
      ]
    },
    {
      "cell_type": "code",
      "metadata": {
        "id": "EVpCJSDjI5jZ",
        "colab_type": "code",
        "colab": {
          "base_uri": "https://localhost:8080/",
          "height": 51
        },
        "outputId": "f92ce691-e829-48b8-88bd-406b60861062"
      },
      "source": [
        "id_number = input(\"請輸入身分證字號：\")\n",
        "id_last_digit = id_number[-1]\n",
        "id_last_digit = int(id_last_digit)\n",
        "if id_last_digit % 2 == 0:\n",
        "    ans = \"星期二四六日領\"\n",
        "else:\n",
        "    ans = \"星期一三五日領\"\n",
        "print(ans)"
      ],
      "execution_count": 9,
      "outputs": [
        {
          "output_type": "stream",
          "text": [
            "請輸入身分證字號：A123456789\n",
            "星期一三五日領\n"
          ],
          "name": "stdout"
        }
      ]
    },
    {
      "cell_type": "code",
      "metadata": {
        "id": "VcgVA9nkK8MQ",
        "colab_type": "code",
        "colab": {
          "base_uri": "https://localhost:8080/",
          "height": 68
        },
        "outputId": "1673e032-6612-4507-a5da-e67c4b11c7b7"
      },
      "source": [
        "movie_title = input(\"請輸入電影名稱：\")\n",
        "movie_rating = input(\"請輸入電影評分：\")\n",
        "movie_rating = float(movie_rating)\n",
        "\n",
        "if movie_rating > 7:\n",
        "    print(\"去電影院看{}\".format(movie_title))\n",
        "if movie_rating > 6:\n",
        "    print(\"在家裡看{}\".format(movie_title))\n",
        "if movie_rating <= 6:\n",
        "    print(\"不要看{}\".format(movie_title))"
      ],
      "execution_count": 10,
      "outputs": [
        {
          "output_type": "stream",
          "text": [
            "請輸入電影名稱：環大西洋\n",
            "請輸入電影評分：1.6\n",
            "不要看環大西洋\n"
          ],
          "name": "stdout"
        }
      ]
    },
    {
      "cell_type": "code",
      "metadata": {
        "id": "4S65vzsEQGfM",
        "colab_type": "code",
        "colab": {
          "base_uri": "https://localhost:8080/",
          "height": 68
        },
        "outputId": "b45d10b1-1730-40c7-85f5-c48890422fa2"
      },
      "source": [
        "#判斷 BMI 的類別標籤\n",
        "height=int(input('請輸入您的身高(公分):'))\n",
        "weight=int(input('請輸入您的體重(公斤):'))\n",
        "bmi=weight/(height/100)**2\n",
        "\n",
        "if bmi <18.5:\n",
        "  print(\"身高{}公分、體重{}公斤、是Under weight\".format(height,weight))\n",
        "elif 18.5<= bmi <25:\n",
        "  print(\"身高{}公分、體重{}公斤、是Normal weight\".format(height,weight))\n",
        "elif 25<= bmi <30:\n",
        "  print(\"身高{}公分、體重{}公斤、是Over weight\".format(height,weight))\n",
        "else:  \n",
        "  print(\"身高{}公分、體重{}公斤、是Obese\".format(height,weight))"
      ],
      "execution_count": 11,
      "outputs": [
        {
          "output_type": "stream",
          "text": [
            "請輸入您的身高(公分):200\n",
            "請輸入您的體重(公斤):100\n",
            "身高200公分、體重100公斤、是Over weight\n"
          ],
          "name": "stdout"
        }
      ]
    },
    {
      "cell_type": "code",
      "metadata": {
        "id": "6VDy-gDWQmBG",
        "colab_type": "code",
        "colab": {}
      },
      "source": [
        ""
      ],
      "execution_count": 0,
      "outputs": []
    }
  ]
}