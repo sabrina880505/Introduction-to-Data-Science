{
  "nbformat": 4,
  "nbformat_minor": 0,
  "metadata": {
    "colab": {
      "name": "week8 A106260082.ipynb",
      "provenance": []
    },
    "kernelspec": {
      "name": "python3",
      "display_name": "Python 3"
    }
  },
  "cells": [
    {
      "cell_type": "code",
      "metadata": {
        "id": "IY1EQvUsHN9X",
        "colab_type": "code",
        "colab": {
          "base_uri": "https://localhost:8080/",
          "height": 51
        },
        "outputId": "75ec213e-8203-4a84-821e-8e3c79f06b1e"
      },
      "source": [
        "user_int = int(input(\"請輸入一個正整數:\"))\n",
        "if user_int % 15 == 0:\n",
        "    print(\"Fizz Buzz\")\n",
        "elif user_int % 5 == 0:\n",
        "    print(\"Buzz\")\n",
        "elif user_int % 3 == 0:\n",
        "    print(\"Fizz\")\n",
        "else:\n",
        "    print(user_int)"
      ],
      "execution_count": 1,
      "outputs": [
        {
          "output_type": "stream",
          "text": [
            "請輸入一個正整數:16\n",
            "16\n"
          ],
          "name": "stdout"
        }
      ]
    },
    {
      "cell_type": "code",
      "metadata": {
        "id": "a-xP56kiHjxr",
        "colab_type": "code",
        "colab": {
          "base_uri": "https://localhost:8080/",
          "height": 187
        },
        "outputId": "d2ede16a-5b65-4405-9533-0e199cf5ecfa"
      },
      "source": [
        "i = 2\n",
        "while i <= 20:\n",
        "    print(i)\n",
        "    i += 2"
      ],
      "execution_count": 2,
      "outputs": [
        {
          "output_type": "stream",
          "text": [
            "2\n",
            "4\n",
            "6\n",
            "8\n",
            "10\n",
            "12\n",
            "14\n",
            "16\n",
            "18\n",
            "20\n"
          ],
          "name": "stdout"
        }
      ]
    },
    {
      "cell_type": "code",
      "metadata": {
        "id": "lGwexMN1H1lC",
        "colab_type": "code",
        "colab": {
          "base_uri": "https://localhost:8080/",
          "height": 204
        },
        "outputId": "9025d7bf-9914-4500-8fbd-8c5615984fb9"
      },
      "source": [
        "i = 1\n",
        "while i <= 10:\n",
        "    print(i)\n",
        "    i += 1\n",
        "print(\"While loop is done.\")"
      ],
      "execution_count": 4,
      "outputs": [
        {
          "output_type": "stream",
          "text": [
            "1\n",
            "2\n",
            "3\n",
            "4\n",
            "5\n",
            "6\n",
            "7\n",
            "8\n",
            "9\n",
            "10\n",
            "While loop is done.\n"
          ],
          "name": "stdout"
        }
      ]
    },
    {
      "cell_type": "code",
      "metadata": {
        "id": "bUatt2jTNBQd",
        "colab_type": "code",
        "colab": {
          "base_uri": "https://localhost:8080/",
          "height": 34
        },
        "outputId": "c0679ea7-5f79-4605-b084-d18e45cf741d"
      },
      "source": [
        "i = 1\n",
        "counter = 0\n",
        "while i <= 10:\n",
        "    counter += 1\n",
        "    i += 1\n",
        "print(counter)"
      ],
      "execution_count": 5,
      "outputs": [
        {
          "output_type": "stream",
          "text": [
            "10\n"
          ],
          "name": "stdout"
        }
      ]
    },
    {
      "cell_type": "code",
      "metadata": {
        "id": "Wm__N8nJPa4O",
        "colab_type": "code",
        "colab": {
          "base_uri": "https://localhost:8080/",
          "height": 34
        },
        "outputId": "54d37264-9ce4-48af-d7ea-6ab7fe293500"
      },
      "source": [
        "i = 1\n",
        "counter = 0\n",
        "while i <= 10:\n",
        "    if i % 2 == 0:\n",
        "        counter += 1\n",
        "    i += 1\n",
        "print(counter)"
      ],
      "execution_count": 6,
      "outputs": [
        {
          "output_type": "stream",
          "text": [
            "5\n"
          ],
          "name": "stdout"
        }
      ]
    },
    {
      "cell_type": "code",
      "metadata": {
        "id": "kzzO61VrStgg",
        "colab_type": "code",
        "colab": {
          "base_uri": "https://localhost:8080/",
          "height": 34
        },
        "outputId": "ed7c1049-45f4-4478-b2e6-7cb12ad4cc4a"
      },
      "source": [
        "i = 1\n",
        "summation = 0\n",
        "while i <= 100:\n",
        "    summation += i\n",
        "    i += 1\n",
        "print(summation)"
      ],
      "execution_count": 7,
      "outputs": [
        {
          "output_type": "stream",
          "text": [
            "5050\n"
          ],
          "name": "stdout"
        }
      ]
    },
    {
      "cell_type": "code",
      "metadata": {
        "id": "CqlWIlM-T1DY",
        "colab_type": "code",
        "colab": {
          "base_uri": "https://localhost:8080/",
          "height": 255
        },
        "outputId": "f7ef0c0a-6ab2-4db6-84d4-96bfd8fb2cbf"
      },
      "source": [
        "x = int(input(\"請輸入起始的正整數:\"))\n",
        "y = int(input(\"請輸入終止的正整數\"))\n",
        "i = x\n",
        "while i <= y:\n",
        "    print(i)\n",
        "    i += 1"
      ],
      "execution_count": 15,
      "outputs": [
        {
          "output_type": "stream",
          "text": [
            "請輸入起始的正整數:55\n",
            "請輸入終止的正整數66\n",
            "55\n",
            "56\n",
            "57\n",
            "58\n",
            "59\n",
            "60\n",
            "61\n",
            "62\n",
            "63\n",
            "64\n",
            "65\n",
            "66\n"
          ],
          "name": "stdout"
        }
      ]
    },
    {
      "cell_type": "code",
      "metadata": {
        "id": "J4uTy-LuU2Zv",
        "colab_type": "code",
        "colab": {}
      },
      "source": [
        ""
      ],
      "execution_count": 0,
      "outputs": []
    }
  ]
}