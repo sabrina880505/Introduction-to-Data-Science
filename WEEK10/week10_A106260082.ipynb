{
  "nbformat": 4,
  "nbformat_minor": 0,
  "metadata": {
    "colab": {
      "name": "week10-A106260082.ipynb",
      "provenance": []
    },
    "kernelspec": {
      "name": "python3",
      "display_name": "Python 3"
    }
  },
  "cells": [
    {
      "cell_type": "code",
      "metadata": {
        "id": "tqYNDRkt5Tf0",
        "colab_type": "code",
        "colab": {}
      },
      "source": [
        "lucky_num_0 = 7\n",
        "lucky_num_1 = 24\n",
        "lucky_num_2 = 5566\n",
        "lucky_numbers = [7, 24, 5566]\n",
        "sat = \"Saturday\"\n",
        "sun = \"Sunday\"\n",
        "weekend = [\"Saturday\", \"Sunday\"]\n",
        "weekdays = [\"Monday\", \"Tuesday\", \"Wednesday\", \"Thursday\", \"Friday\"]"
      ],
      "execution_count": 0,
      "outputs": []
    },
    {
      "cell_type": "code",
      "metadata": {
        "id": "qQKErcGSErVH",
        "colab_type": "code",
        "colab": {
          "base_uri": "https://localhost:8080/",
          "height": 68
        },
        "outputId": "9d9b33cd-cae9-4f0a-cd4a-526969639519"
      },
      "source": [
        "print(len(lucky_numbers))\n",
        "print(len(weekend))\n",
        "print(len(weekdays))"
      ],
      "execution_count": 2,
      "outputs": [
        {
          "output_type": "stream",
          "text": [
            "3\n",
            "2\n",
            "5\n"
          ],
          "name": "stdout"
        }
      ]
    },
    {
      "cell_type": "code",
      "metadata": {
        "id": "NNsW5ffbEwBd",
        "colab_type": "code",
        "colab": {
          "base_uri": "https://localhost:8080/",
          "height": 34
        },
        "outputId": "2e413e5c-2506-4542-fbf3-51c783253dd2"
      },
      "source": [
        "my_fav_weekday = \"Friday\"\n",
        "print(\"My favorite weekday is {}.\".format(my_fav_weekday))"
      ],
      "execution_count": 3,
      "outputs": [
        {
          "output_type": "stream",
          "text": [
            "My favorite weekday is Friday.\n"
          ],
          "name": "stdout"
        }
      ]
    },
    {
      "cell_type": "code",
      "metadata": {
        "id": "-grvuOeaEzJN",
        "colab_type": "code",
        "colab": {
          "base_uri": "https://localhost:8080/",
          "height": 51
        },
        "outputId": "649edcf8-7a0e-48af-8002-73d4e05fc18b"
      },
      "source": [
        "print(lucky_numbers)\n",
        "lucky_numbers.append(87)\n",
        "print(lucky_numbers)"
      ],
      "execution_count": 4,
      "outputs": [
        {
          "output_type": "stream",
          "text": [
            "[7, 24, 5566]\n",
            "[7, 24, 5566, 87]\n"
          ],
          "name": "stdout"
        }
      ]
    },
    {
      "cell_type": "code",
      "metadata": {
        "id": "EpBM45cyE1sM",
        "colab_type": "code",
        "colab": {
          "base_uri": "https://localhost:8080/",
          "height": 51
        },
        "outputId": "8e400d32-cac5-4087-9b37-2388791e9760"
      },
      "source": [
        "print(lucky_numbers)\n",
        "lucky_numbers.pop()\n",
        "print(lucky_numbers)"
      ],
      "execution_count": 5,
      "outputs": [
        {
          "output_type": "stream",
          "text": [
            "[7, 24, 5566, 87]\n",
            "[7, 24, 5566]\n"
          ],
          "name": "stdout"
        }
      ]
    },
    {
      "cell_type": "code",
      "metadata": {
        "id": "Ft-O-9DTE6x8",
        "colab_type": "code",
        "colab": {
          "base_uri": "https://localhost:8080/",
          "height": 51
        },
        "outputId": "4d6bdf77-3c7e-4806-dd03-348ec3e6fc71"
      },
      "source": [
        "my_fav_group = lucky_numbers.pop()\n",
        "print(lucky_numbers)\n",
        "print(my_fav_group)"
      ],
      "execution_count": 6,
      "outputs": [
        {
          "output_type": "stream",
          "text": [
            "[7, 24]\n",
            "5566\n"
          ],
          "name": "stdout"
        }
      ]
    },
    {
      "cell_type": "code",
      "metadata": {
        "id": "jvTC3MAxE-AN",
        "colab_type": "code",
        "colab": {
          "base_uri": "https://localhost:8080/",
          "height": 51
        },
        "outputId": "be70f401-1eec-4b18-cdba-97e5430f5668"
      },
      "source": [
        "print(weekdays)\n",
        "print(weekend)"
      ],
      "execution_count": 7,
      "outputs": [
        {
          "output_type": "stream",
          "text": [
            "['Monday', 'Tuesday', 'Wednesday', 'Thursday', 'Friday']\n",
            "['Saturday', 'Sunday']\n"
          ],
          "name": "stdout"
        }
      ]
    },
    {
      "cell_type": "code",
      "metadata": {
        "id": "VVfRxnNoE_2d",
        "colab_type": "code",
        "colab": {
          "base_uri": "https://localhost:8080/",
          "height": 34
        },
        "outputId": "ed890929-86e6-4156-c4ee-7c00b259a497"
      },
      "source": [
        "weekdays + weekend"
      ],
      "execution_count": 8,
      "outputs": [
        {
          "output_type": "execute_result",
          "data": {
            "text/plain": [
              "['Monday', 'Tuesday', 'Wednesday', 'Thursday', 'Friday', 'Saturday', 'Sunday']"
            ]
          },
          "metadata": {
            "tags": []
          },
          "execution_count": 8
        }
      ]
    },
    {
      "cell_type": "code",
      "metadata": {
        "id": "ZF0QI_PFFCoE",
        "colab_type": "code",
        "colab": {
          "base_uri": "https://localhost:8080/",
          "height": 34
        },
        "outputId": "f2bceeb6-da10-4d52-a91a-d8b199902d63"
      },
      "source": [
        "weekend + weekdays"
      ],
      "execution_count": 9,
      "outputs": [
        {
          "output_type": "execute_result",
          "data": {
            "text/plain": [
              "['Saturday', 'Sunday', 'Monday', 'Tuesday', 'Wednesday', 'Thursday', 'Friday']"
            ]
          },
          "metadata": {
            "tags": []
          },
          "execution_count": 9
        }
      ]
    },
    {
      "cell_type": "code",
      "metadata": {
        "id": "I5RkiYomFETc",
        "colab_type": "code",
        "colab": {
          "base_uri": "https://localhost:8080/",
          "height": 102
        },
        "outputId": "404c0e09-9a8e-4d13-aa9d-a2f4f5f57fa4"
      },
      "source": [
        "print(weekdays[0])\n",
        "print(weekdays[1])\n",
        "print(weekdays[2])\n",
        "print(weekdays[3])\n",
        "print(weekdays[4])"
      ],
      "execution_count": 10,
      "outputs": [
        {
          "output_type": "stream",
          "text": [
            "Monday\n",
            "Tuesday\n",
            "Wednesday\n",
            "Thursday\n",
            "Friday\n"
          ],
          "name": "stdout"
        }
      ]
    },
    {
      "cell_type": "code",
      "metadata": {
        "id": "-QTb8YkoFGpO",
        "colab_type": "code",
        "colab": {
          "base_uri": "https://localhost:8080/",
          "height": 102
        },
        "outputId": "844e42c4-9e38-46ef-8a57-09bd23be0338"
      },
      "source": [
        "i = 0\n",
        "while i < 5:\n",
        "    print(weekdays[i])\n",
        "    i += 1"
      ],
      "execution_count": 11,
      "outputs": [
        {
          "output_type": "stream",
          "text": [
            "Monday\n",
            "Tuesday\n",
            "Wednesday\n",
            "Thursday\n",
            "Friday\n"
          ],
          "name": "stdout"
        }
      ]
    },
    {
      "cell_type": "code",
      "metadata": {
        "id": "vQ8gb_AMFIst",
        "colab_type": "code",
        "colab": {
          "base_uri": "https://localhost:8080/",
          "height": 51
        },
        "outputId": "6efdc9b6-06c9-4bd1-d87d-290d775cd38d"
      },
      "source": [
        "i = 0\n",
        "while i < 2:\n",
        "    print(weekend[i])\n",
        "    i += 1"
      ],
      "execution_count": 12,
      "outputs": [
        {
          "output_type": "stream",
          "text": [
            "Saturday\n",
            "Sunday\n"
          ],
          "name": "stdout"
        }
      ]
    },
    {
      "cell_type": "code",
      "metadata": {
        "id": "0bufP7-YFNb1",
        "colab_type": "code",
        "colab": {
          "base_uri": "https://localhost:8080/",
          "height": 51
        },
        "outputId": "784f8f7c-f89b-485d-90a4-2fe6dc84bf83"
      },
      "source": [
        "i = 0\n",
        "while i < len(weekend):\n",
        "    print(weekend[i])\n",
        "    i += 1"
      ],
      "execution_count": 13,
      "outputs": [
        {
          "output_type": "stream",
          "text": [
            "Saturday\n",
            "Sunday\n"
          ],
          "name": "stdout"
        }
      ]
    },
    {
      "cell_type": "code",
      "metadata": {
        "id": "JLgap4Y2FPKG",
        "colab_type": "code",
        "colab": {
          "base_uri": "https://localhost:8080/",
          "height": 102
        },
        "outputId": "c1c72a97-49f5-4aac-a2c9-b514f70e6500"
      },
      "source": [
        "i = 0\n",
        "while i < len(weekdays):\n",
        "    print(weekdays[i])\n",
        "    i += 1"
      ],
      "execution_count": 14,
      "outputs": [
        {
          "output_type": "stream",
          "text": [
            "Monday\n",
            "Tuesday\n",
            "Wednesday\n",
            "Thursday\n",
            "Friday\n"
          ],
          "name": "stdout"
        }
      ]
    },
    {
      "cell_type": "code",
      "metadata": {
        "id": "us9-6gl3FRrN",
        "colab_type": "code",
        "colab": {
          "base_uri": "https://localhost:8080/",
          "height": 102
        },
        "outputId": "77e67355-30db-44af-f15d-f13430205252"
      },
      "source": [
        "print(weekdays[-1])\n",
        "print(weekdays[-2])\n",
        "print(weekdays[-3])\n",
        "print(weekdays[-4])\n",
        "print(weekdays[-5])"
      ],
      "execution_count": 15,
      "outputs": [
        {
          "output_type": "stream",
          "text": [
            "Friday\n",
            "Thursday\n",
            "Wednesday\n",
            "Tuesday\n",
            "Monday\n"
          ],
          "name": "stdout"
        }
      ]
    },
    {
      "cell_type": "code",
      "metadata": {
        "id": "BC8QgnS9FTll",
        "colab_type": "code",
        "colab": {
          "base_uri": "https://localhost:8080/",
          "height": 51
        },
        "outputId": "cbc00e92-cfc2-42c5-d198-e15d95614ffe"
      },
      "source": [
        "#參考 cast 與 https://www.imdb.com/title/tt4154796 將飾演奇異博士（Doctor Strange）的演員用 indexing 方式選出來\n",
        "\n",
        "cast = ['Robert Downey Jr.', 'Chris Evans', 'Mark Ruffalo', 'Chris Hemsworth', 'Scarlett Johansson', 'Jeremy Renner', 'Don Cheadle', 'Paul Rudd', 'Benedict Cumberbatch', 'Chadwick Boseman', 'Brie Larson', 'Tom Holland', 'Karen Gillan', 'Zoe Saldana', 'Evangeline Lilly']\n",
        "#從開頭數\n",
        "print(cast[8])\n",
        "\n",
        "#從末端數\n",
        "print(cast[-7])\n"
      ],
      "execution_count": 16,
      "outputs": [
        {
          "output_type": "stream",
          "text": [
            "Benedict Cumberbatch\n",
            "Benedict Cumberbatch\n"
          ],
          "name": "stdout"
        }
      ]
    },
    {
      "cell_type": "code",
      "metadata": {
        "id": "Ck7jd-GFHWCA",
        "colab_type": "code",
        "colab": {
          "base_uri": "https://localhost:8080/",
          "height": 34
        },
        "outputId": "86253d69-73d6-49e9-b668-7f91dde9c499"
      },
      "source": [
        "#參考 cast 與 https://www.imdb.com/title/tt4154796 將第一集復仇者聯盟的六位英雄選出來\n",
        "cast = ['Robert Downey Jr.', 'Chris Evans', 'Mark Ruffalo', 'Chris Hemsworth', 'Scarlett Johansson', 'Jeremy Renner', 'Don Cheadle', 'Paul Rudd', 'Benedict Cumberbatch', 'Chadwick Boseman', 'Brie Larson', 'Tom Holland', 'Karen Gillan', 'Zoe Saldana', 'Evangeline Lilly']\n",
        "print(cast[:6])"
      ],
      "execution_count": 17,
      "outputs": [
        {
          "output_type": "stream",
          "text": [
            "['Robert Downey Jr.', 'Chris Evans', 'Mark Ruffalo', 'Chris Hemsworth', 'Scarlett Johansson', 'Jeremy Renner']\n"
          ],
          "name": "stdout"
        }
      ]
    },
    {
      "cell_type": "code",
      "metadata": {
        "id": "YIqOPycKH4iD",
        "colab_type": "code",
        "colab": {
          "base_uri": "https://localhost:8080/",
          "height": 1000
        },
        "outputId": "e4746014-27b2-4c40-d02a-2022515eb6f1"
      },
      "source": [
        "#covid19\n",
        "import pandas as pd\n",
        "\n",
        "time_series_df = pd.read_csv(\"https://raw.githubusercontent.com/CSSEGISandData/COVID-19/master/csse_covid_19_data/csse_covid_19_time_series/time_series_covid19_confirmed_global.csv\")\n",
        "cumulative_confirmed = list(time_series_df[time_series_df['Country/Region'] == 'Taiwan*'].values.ravel()[4:].astype(int))\n",
        "cumulative_confirmed_lag = list(time_series_df[time_series_df['Country/Region'] == 'Taiwan*'].values.ravel()[4:].astype(int))\n",
        "print(cumulative_confirmed)\n",
        "print(cumulative_confirmed_lag)\n",
        "\n",
        "print(len(cumulative_confirmed))\n",
        "print(cumulative_confirmed[-1])\n",
        "\n",
        "cumulative_confirmed_lag.insert(0, 0)\n",
        "print(len(cumulative_confirmed_lag))\n",
        "print(cumulative_confirmed_lag[0])\n",
        "\n",
        "cumulative_confirmed_lag.pop()\n",
        "print(len(cumulative_confirmed_lag))\n",
        "print(cumulative_confirmed_lag[-1])\n",
        "\n",
        "\n",
        "\n",
        "print(cumulative_confirmed)\n",
        "print(cumulative_confirmed_lag)\n",
        "#daily_incraese=?\n",
        "daily_increase=[]\n",
        "i = 0\n",
        "while i <107:\n",
        "   dayn_increase=cumulative_confirmed[i] - cumulative_confirmed_lag[i]\n",
        "   print(\"Day{}:每日新增確診人數{}\".format(i,dayn_increase)) \n",
        "   i+=1"
      ],
      "execution_count": 22,
      "outputs": [
        {
          "output_type": "stream",
          "text": [
            "[1, 1, 3, 3, 4, 5, 8, 8, 9, 10, 10, 10, 10, 11, 11, 16, 16, 17, 18, 18, 18, 18, 18, 18, 18, 20, 22, 22, 23, 24, 26, 26, 28, 30, 31, 32, 32, 34, 39, 40, 41, 42, 42, 44, 45, 45, 45, 45, 47, 48, 49, 50, 53, 59, 67, 77, 100, 108, 135, 153, 169, 195, 215, 235, 252, 267, 283, 298, 306, 322, 329, 339, 348, 355, 363, 373, 376, 379, 380, 382, 385, 388, 393, 393, 395, 395, 395, 398, 420, 422, 425, 426, 427, 428, 429, 429, 429, 429, 429, 429, 429, 432, 436, 438, 438, 439, 440]\n",
            "[1, 1, 3, 3, 4, 5, 8, 8, 9, 10, 10, 10, 10, 11, 11, 16, 16, 17, 18, 18, 18, 18, 18, 18, 18, 20, 22, 22, 23, 24, 26, 26, 28, 30, 31, 32, 32, 34, 39, 40, 41, 42, 42, 44, 45, 45, 45, 45, 47, 48, 49, 50, 53, 59, 67, 77, 100, 108, 135, 153, 169, 195, 215, 235, 252, 267, 283, 298, 306, 322, 329, 339, 348, 355, 363, 373, 376, 379, 380, 382, 385, 388, 393, 393, 395, 395, 395, 398, 420, 422, 425, 426, 427, 428, 429, 429, 429, 429, 429, 429, 429, 432, 436, 438, 438, 439, 440]\n",
            "107\n",
            "440\n",
            "108\n",
            "0\n",
            "107\n",
            "439\n",
            "[1, 1, 3, 3, 4, 5, 8, 8, 9, 10, 10, 10, 10, 11, 11, 16, 16, 17, 18, 18, 18, 18, 18, 18, 18, 20, 22, 22, 23, 24, 26, 26, 28, 30, 31, 32, 32, 34, 39, 40, 41, 42, 42, 44, 45, 45, 45, 45, 47, 48, 49, 50, 53, 59, 67, 77, 100, 108, 135, 153, 169, 195, 215, 235, 252, 267, 283, 298, 306, 322, 329, 339, 348, 355, 363, 373, 376, 379, 380, 382, 385, 388, 393, 393, 395, 395, 395, 398, 420, 422, 425, 426, 427, 428, 429, 429, 429, 429, 429, 429, 429, 432, 436, 438, 438, 439, 440]\n",
            "[0, 1, 1, 3, 3, 4, 5, 8, 8, 9, 10, 10, 10, 10, 11, 11, 16, 16, 17, 18, 18, 18, 18, 18, 18, 18, 20, 22, 22, 23, 24, 26, 26, 28, 30, 31, 32, 32, 34, 39, 40, 41, 42, 42, 44, 45, 45, 45, 45, 47, 48, 49, 50, 53, 59, 67, 77, 100, 108, 135, 153, 169, 195, 215, 235, 252, 267, 283, 298, 306, 322, 329, 339, 348, 355, 363, 373, 376, 379, 380, 382, 385, 388, 393, 393, 395, 395, 395, 398, 420, 422, 425, 426, 427, 428, 429, 429, 429, 429, 429, 429, 429, 432, 436, 438, 438, 439]\n",
            "Day0:每日新增確診人數1\n",
            "Day1:每日新增確診人數0\n",
            "Day2:每日新增確診人數2\n",
            "Day3:每日新增確診人數0\n",
            "Day4:每日新增確診人數1\n",
            "Day5:每日新增確診人數1\n",
            "Day6:每日新增確診人數3\n",
            "Day7:每日新增確診人數0\n",
            "Day8:每日新增確診人數1\n",
            "Day9:每日新增確診人數1\n",
            "Day10:每日新增確診人數0\n",
            "Day11:每日新增確診人數0\n",
            "Day12:每日新增確診人數0\n",
            "Day13:每日新增確診人數1\n",
            "Day14:每日新增確診人數0\n",
            "Day15:每日新增確診人數5\n",
            "Day16:每日新增確診人數0\n",
            "Day17:每日新增確診人數1\n",
            "Day18:每日新增確診人數1\n",
            "Day19:每日新增確診人數0\n",
            "Day20:每日新增確診人數0\n",
            "Day21:每日新增確診人數0\n",
            "Day22:每日新增確診人數0\n",
            "Day23:每日新增確診人數0\n",
            "Day24:每日新增確診人數0\n",
            "Day25:每日新增確診人數2\n",
            "Day26:每日新增確診人數2\n",
            "Day27:每日新增確診人數0\n",
            "Day28:每日新增確診人數1\n",
            "Day29:每日新增確診人數1\n",
            "Day30:每日新增確診人數2\n",
            "Day31:每日新增確診人數0\n",
            "Day32:每日新增確診人數2\n",
            "Day33:每日新增確診人數2\n",
            "Day34:每日新增確診人數1\n",
            "Day35:每日新增確診人數1\n",
            "Day36:每日新增確診人數0\n",
            "Day37:每日新增確診人數2\n",
            "Day38:每日新增確診人數5\n",
            "Day39:每日新增確診人數1\n",
            "Day40:每日新增確診人數1\n",
            "Day41:每日新增確診人數1\n",
            "Day42:每日新增確診人數0\n",
            "Day43:每日新增確診人數2\n",
            "Day44:每日新增確診人數1\n",
            "Day45:每日新增確診人數0\n",
            "Day46:每日新增確診人數0\n",
            "Day47:每日新增確診人數0\n",
            "Day48:每日新增確診人數2\n",
            "Day49:每日新增確診人數1\n",
            "Day50:每日新增確診人數1\n",
            "Day51:每日新增確診人數1\n",
            "Day52:每日新增確診人數3\n",
            "Day53:每日新增確診人數6\n",
            "Day54:每日新增確診人數8\n",
            "Day55:每日新增確診人數10\n",
            "Day56:每日新增確診人數23\n",
            "Day57:每日新增確診人數8\n",
            "Day58:每日新增確診人數27\n",
            "Day59:每日新增確診人數18\n",
            "Day60:每日新增確診人數16\n",
            "Day61:每日新增確診人數26\n",
            "Day62:每日新增確診人數20\n",
            "Day63:每日新增確診人數20\n",
            "Day64:每日新增確診人數17\n",
            "Day65:每日新增確診人數15\n",
            "Day66:每日新增確診人數16\n",
            "Day67:每日新增確診人數15\n",
            "Day68:每日新增確診人數8\n",
            "Day69:每日新增確診人數16\n",
            "Day70:每日新增確診人數7\n",
            "Day71:每日新增確診人數10\n",
            "Day72:每日新增確診人數9\n",
            "Day73:每日新增確診人數7\n",
            "Day74:每日新增確診人數8\n",
            "Day75:每日新增確診人數10\n",
            "Day76:每日新增確診人數3\n",
            "Day77:每日新增確診人數3\n",
            "Day78:每日新增確診人數1\n",
            "Day79:每日新增確診人數2\n",
            "Day80:每日新增確診人數3\n",
            "Day81:每日新增確診人數3\n",
            "Day82:每日新增確診人數5\n",
            "Day83:每日新增確診人數0\n",
            "Day84:每日新增確診人數2\n",
            "Day85:每日新增確診人數0\n",
            "Day86:每日新增確診人數0\n",
            "Day87:每日新增確診人數3\n",
            "Day88:每日新增確診人數22\n",
            "Day89:每日新增確診人數2\n",
            "Day90:每日新增確診人數3\n",
            "Day91:每日新增確診人數1\n",
            "Day92:每日新增確診人數1\n",
            "Day93:每日新增確診人數1\n",
            "Day94:每日新增確診人數1\n",
            "Day95:每日新增確診人數0\n",
            "Day96:每日新增確診人數0\n",
            "Day97:每日新增確診人數0\n",
            "Day98:每日新增確診人數0\n",
            "Day99:每日新增確診人數0\n",
            "Day100:每日新增確診人數0\n",
            "Day101:每日新增確診人數3\n",
            "Day102:每日新增確診人數4\n",
            "Day103:每日新增確診人數2\n",
            "Day104:每日新增確診人數0\n",
            "Day105:每日新增確診人數1\n",
            "Day106:每日新增確診人數1\n"
          ],
          "name": "stdout"
        }
      ]
    },
    {
      "cell_type": "code",
      "metadata": {
        "id": "h6p5E0ovYZBM",
        "colab_type": "code",
        "colab": {}
      },
      "source": [
        ""
      ],
      "execution_count": 0,
      "outputs": []
    }
  ]
}