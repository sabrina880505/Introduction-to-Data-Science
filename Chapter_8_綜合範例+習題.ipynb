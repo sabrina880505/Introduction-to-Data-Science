{
  "nbformat": 4,
  "nbformat_minor": 0,
  "metadata": {
    "colab": {
      "name": "Chapter 8 綜合範例+習題",
      "provenance": [],
      "collapsed_sections": [],
      "include_colab_link": true
    },
    "kernelspec": {
      "name": "python3",
      "display_name": "Python 3"
    }
  },
  "cells": [
    {
      "cell_type": "markdown",
      "metadata": {
        "id": "view-in-github",
        "colab_type": "text"
      },
      "source": [
        "<a href=\"https://colab.research.google.com/github/sabrina880505/Introduction-to-Data-Science/blob/master/Chapter_8_%E7%B6%9C%E5%90%88%E7%AF%84%E4%BE%8B%2B%E7%BF%92%E9%A1%8C.ipynb\" target=\"_parent\"><img src=\"https://colab.research.google.com/assets/colab-badge.svg\" alt=\"Open In Colab\"/></a>"
      ]
    },
    {
      "cell_type": "code",
      "metadata": {
        "id": "Hc2S-rfHHXqz",
        "colab_type": "code",
        "colab": {}
      },
      "source": [
        "#綜合範例11:\n",
        "#試撰寫一程式，以一不定迴圈要求使用者輸入字串，檢視若字串是以B字元開頭，則將此字串加入lst串列中，最後將其印出。當使用者輸入的end時將結束輸入的動作。\n",
        "#1. 輸入輸出:\n",
        "#(1)範例輸入:\n",
        "#Block\n",
        "#Apple\n",
        "#Banana\n",
        "#Cathy\n",
        "#Boy\n",
        "#end\n",
        "#(2)範例輸出\n",
        "#['Block' , 'Banana' , 'Boy']"
      ],
      "execution_count": 0,
      "outputs": []
    },
    {
      "cell_type": "code",
      "metadata": {
        "id": "zasxZsxjLGLP",
        "colab_type": "code",
        "outputId": "9a666301-1046-401b-b712-ff95e48690e2",
        "colab": {
          "base_uri": "https://localhost:8080/",
          "height": 138
        }
      },
      "source": [
        "#2.參考程式:\n",
        "\n",
        "lst= []\n",
        "while True:\n",
        "   str = input ()\n",
        "   if str != 'end':\n",
        "     if str.startswith ('B'):\n",
        "       lst.append(str)\n",
        "   else:\n",
        "     break\n",
        "\n",
        "print(lst)"
      ],
      "execution_count": 0,
      "outputs": [
        {
          "output_type": "stream",
          "text": [
            "Block\n",
            "Apple\n",
            "Banana\n",
            "Cathy\n",
            "Boy\n",
            "end\n",
            "['Block', 'Banana', 'Boy']\n"
          ],
          "name": "stdout"
        }
      ]
    },
    {
      "cell_type": "code",
      "metadata": {
        "id": "1LPgGnn2x4Y-",
        "colab_type": "code",
        "colab": {}
      },
      "source": [
        "#綜合範例12:\n",
        "#試撰寫一程式，已依不定迴圈要求使用者輸入字串，將輸入的字串以空白為分隔字元，並處存於lst串列中，最後將其印出。\n",
        "\n",
        "#1.輸入與書輸出樣本:\n",
        "#I am a teacher.\n",
        "#['I','am','a','teacher.']\n",
        "#He is a student.\n",
        "#['He','is','a','student.']\n",
        "#Hello, world\n",
        "#['Hello,','world']\n",
        "#end\n"
      ],
      "execution_count": 0,
      "outputs": []
    },
    {
      "cell_type": "code",
      "metadata": {
        "id": "m_DItv_yx7ht",
        "colab_type": "code",
        "outputId": "7d4752e1-8ae9-45ea-b890-c35fefaacc3d",
        "colab": {
          "base_uri": "https://localhost:8080/",
          "height": 136
        }
      },
      "source": [
        "#2.參考程式:\n",
        "\n",
        "lst = []\n",
        "while True:\n",
        "  str = input()\n",
        "  if str != 'end':\n",
        "      lst = str.split()\n",
        "      print(lst)\n",
        "  else:\n",
        "    break    "
      ],
      "execution_count": 0,
      "outputs": [
        {
          "output_type": "stream",
          "text": [
            "I am a teacher.\n",
            "['I', 'am', 'a', 'teacher.']\n",
            "He is a student.\n",
            "['He', 'is', 'a', 'student.']\n",
            "Hello, world\n",
            "['Hello,', 'world']\n",
            "end\n"
          ],
          "name": "stdout"
        }
      ]
    },
    {
      "cell_type": "code",
      "metadata": {
        "id": "FpGBZ3R0x-J2",
        "colab_type": "code",
        "colab": {}
      },
      "source": [
        "#綜合範例13:\n",
        "#試撰寫一程式，隨機產生10個介於65~90的亂數，然後將其轉換為一對應於英文字母的字串。\n",
        "\n",
        "#1.輸入輸出 1:\n",
        "  #(1)範例輸入\n",
        "      #無\n",
        "  #(2)範例輸出\n",
        "      #YCHUOPDQDJ\n",
        "#2.輸入輸出 2:\n",
        "  #(1)範例輸入\n",
        "      #無\n",
        "  #(2)範例輸出\n",
        "      #QQGGNXCZCZ\n",
        "                     "
      ],
      "execution_count": 0,
      "outputs": []
    },
    {
      "cell_type": "code",
      "metadata": {
        "id": "eFgIck0b1E-P",
        "colab_type": "code",
        "outputId": "f6831035-85b9-4afc-9a98-9ef3d53ed409",
        "colab": {
          "base_uri": "https://localhost:8080/",
          "height": 34
        }
      },
      "source": [
        "#3.參考程式:\n",
        "\n",
        "import random\n",
        "str = ''\n",
        "for i in range(1,11):\n",
        "  randNum = random.randint(65,90)\n",
        "  str += (chr(randNum))\n",
        "print(str)  "
      ],
      "execution_count": 0,
      "outputs": [
        {
          "output_type": "stream",
          "text": [
            "YJBFDPXKEX\n"
          ],
          "name": "stdout"
        }
      ]
    },
    {
      "cell_type": "code",
      "metadata": {
        "id": "d5Hlrb4w1Ha8",
        "colab_type": "code",
        "colab": {}
      },
      "source": [
        "#綜合範例14:\n",
        "#試撰寫一程式，輸入九個字串置放於一名為lst的字串，其長度不超過10個字元。接下來，每一列印出三個字串，並且向中靠齊。\n",
        "# *提示:每一列印出三個字串，並且向中靠齊。\n",
        "\n",
        "#1.輸入輸出:\n",
        "  #(1)範例輸入\n",
        "      #apple\n",
        "      #orange\n",
        "      #kiwi\n",
        "      #banana\n",
        "      #grape\n",
        "      #pineapple\n",
        "      #guava\n",
        "      #cherry\n",
        "      #blueberry\n",
        "  #(2)範例輸出\n",
        "    #|  apple  | |  orange  | |   kiwi    |\n",
        "    #|  banana | |  grape   | | pineapple |\n",
        "    #|  guava  | |  cherry  | | blueberry |"
      ],
      "execution_count": 0,
      "outputs": []
    },
    {
      "cell_type": "code",
      "metadata": {
        "id": "ypgGj85F7RGp",
        "colab_type": "code",
        "outputId": "d4de4142-c78a-4623-daef-929a5974e375",
        "colab": {
          "base_uri": "https://localhost:8080/",
          "height": 221
        }
      },
      "source": [
        "#2.參考程式:\n",
        "\n",
        "lst =[]\n",
        "for i in range(1,10):\n",
        "    str = input()\n",
        "    lst.append(str)\n",
        "\n",
        "for k in range(1,10):\n",
        "    if k % 3 != 0:\n",
        "        print('|'+lst[k-1].center(15)+'|',end = '')\n",
        "    else:\n",
        "        print('|'+lst[k-1].center(15)+'|') "
      ],
      "execution_count": 0,
      "outputs": [
        {
          "output_type": "stream",
          "text": [
            "apple\n",
            "orange\n",
            "kiwi\n",
            "banana\n",
            "grape\n",
            "pineapple\n",
            "guava\n",
            "cherry\n",
            "blueberry\n",
            "|     apple     ||     orange    ||      kiwi     |\n",
            "|     banana    ||     grape     ||   pineapple   |\n",
            "|     guava     ||     cherry    ||   blueberry   |\n"
          ],
          "name": "stdout"
        }
      ]
    },
    {
      "cell_type": "code",
      "metadata": {
        "id": "xlgsBT0-7T5K",
        "colab_type": "code",
        "colab": {}
      },
      "source": [
        "#綜合範例15：\n",
        "#試撰寫一程式，輸入一名為str的字串與欲尋找的字串，將找到的字串以'Bright'字串取代之。\n",
        "#若沒有玉找尋的字串，則印出'is not found'的訊息。\n",
        "#1. 輸入輸出1:\n",
        "#   (1)範例輸入\n",
        "#      I make an appointment with Linda \n",
        "#      Linda\n",
        "#   (2)範例輸出\n",
        "#      I make an appointment with Bright\n",
        "#2. 輸入輸出2:\n",
        "#   (1)範例輸入\n",
        "#      I make an appointment with Linda\n",
        "#      Nancy\n",
        "#   (2)範例輸出\n",
        "#      Nancy is not found"
      ],
      "execution_count": 0,
      "outputs": []
    },
    {
      "cell_type": "code",
      "metadata": {
        "id": "ZZ9LRyTdFUs2",
        "colab_type": "code",
        "outputId": "7c8d97ea-6280-4357-9969-b80ad691b74f",
        "colab": {
          "base_uri": "https://localhost:8080/",
          "height": 68
        }
      },
      "source": [
        "#3. 參考程式:\n",
        "\n",
        "str = input()\n",
        "fstr = input()\n",
        "if str.find(fstr) != -1:\n",
        "    endStr = str.replace(fstr,'Bright')\n",
        "    print(endStr)\n",
        "else:\n",
        "    print(fstr + 'is not found')"
      ],
      "execution_count": 0,
      "outputs": [
        {
          "output_type": "stream",
          "text": [
            " I make an appointment with Linda\n",
            "Linda\n",
            " I make an appointment with Bright\n"
          ],
          "name": "stdout"
        }
      ]
    },
    {
      "cell_type": "code",
      "metadata": {
        "id": "oLAyT0QBFY_4",
        "colab_type": "code",
        "colab": {}
      },
      "source": [
        "#Ch8 習題1\n",
        "#試撰寫一程式，以不定數迴圈輸入以: 時:分:秒表示的時間數字，隨後將它拆解存放於串列。最後再將此串列輸出。當輸入為end則結束輸入資料。\n",
        "\n",
        "# * 輸入與輸出樣本1:\n",
        "#   20:12:56\n",
        "#   hour: 22, min: 12, second:56\n",
        "# * 輸入與輸出樣本2:\n",
        "#   22:10:01\n",
        "#   hour: 22, min: 10, second:01\n",
        "#   end"
      ],
      "execution_count": 0,
      "outputs": []
    },
    {
      "cell_type": "code",
      "metadata": {
        "id": "_V74B4PmFhXQ",
        "colab_type": "code",
        "outputId": "5dfd2b29-55d2-4d89-a900-d1d0d561244e",
        "colab": {
          "base_uri": "https://localhost:8080/",
          "height": 136
        }
      },
      "source": [
        "#參考程式\n",
        "\n",
        "lst = []\n",
        "while True:\n",
        "    str = input()\n",
        "    if str != 'end':\n",
        "        lst = str.split(':') \n",
        "        print('hour: %s, min: %s, second: %s' %(lst[0],lst[1], lst[2]))\n",
        "    else:\n",
        "        break"
      ],
      "execution_count": 0,
      "outputs": [
        {
          "output_type": "stream",
          "text": [
            "22:12:56\n",
            "hour: 22, min: 12, second: 56\n",
            "22:10:01\n",
            "hour: 22, min: 10, second: 01\n",
            "10:49:25\n",
            "hour: 10, min: 49, second: 25\n",
            "end\n"
          ],
          "name": "stdout"
        }
      ]
    },
    {
      "cell_type": "code",
      "metadata": {
        "id": "_FwM6bDxFkIv",
        "colab_type": "code",
        "colab": {}
      },
      "source": [
        "#Ch8 習題2 \n",
        "#試撰寫一程式，輸入一變數名稱，然後判斷它是否為合法的變數名稱。假設取變數名稱的準則如下:\n",
        "#A. 第一個字元需要英文字母\n",
        "#B. 接下的字元可為英文字母或是數字\n",
        "#C. 不可以為其他符號\n",
        "\n",
        "# * 輸入與輸出樣本 1:\n",
        "#   輸入:\n",
        "#       Lo\n",
        "#   輸出:\n",
        "#       Valid variable name\n",
        "# * 輸入與輸出樣本 2:\n",
        "#   輸入:\n",
        "#       7sdfja\n",
        "#   輸出:\n",
        "#       Invaid variable name\n",
        "# * 輸入輸出樣本 3:\n",
        "#   輸入:\n",
        "#       abc123\n",
        "#   輸出:\n",
        "#       Valid variable name\n",
        "# * 輸入輸出樣本 4:\n",
        "#   輸入:\n",
        "#       abc123%\n",
        "#   輸出:\n",
        "#       Invaid variable name"
      ],
      "execution_count": 0,
      "outputs": []
    },
    {
      "cell_type": "code",
      "metadata": {
        "id": "H2f6bR1iFy6I",
        "colab_type": "code",
        "outputId": "5203c045-3487-418d-f200-9608b46dbc8b",
        "colab": {
          "base_uri": "https://localhost:8080/",
          "height": 51
        }
      },
      "source": [
        "#參考程式\n",
        "\n",
        "varName = input()\n",
        "validVar = True\n",
        "\n",
        "if not varName[0].isalpha():\n",
        "    validVar = False\n",
        "else:\n",
        "    for i in range(0, len(varName)):\n",
        "        if not varName[i].isalpha() and \\\n",
        "           not varName[i].isdigit():\n",
        "              validVar = False\n",
        "              break\n",
        "if validVar:\n",
        "    print('Valid variable name')\n",
        "else:\n",
        "    print('Invalid variable name')"
      ],
      "execution_count": 0,
      "outputs": [
        {
          "output_type": "stream",
          "text": [
            "abc123\n",
            "Valid variable name\n"
          ],
          "name": "stdout"
        }
      ]
    },
    {
      "cell_type": "code",
      "metadata": {
        "id": "CCI3PyKoJ1mj",
        "colab_type": "code",
        "colab": {}
      },
      "source": [
        "#Ch8 習題3\n",
        "#撰寫一程式，仿照綜合範例14，輸入九個字串置放於一名為lst的字串，其長度不常於10個字元。接下來，每一列映出三個字串，並向左靠齊。\n",
        "#提示:每一個字串輸出欄位寬為15"
      ],
      "execution_count": 0,
      "outputs": []
    },
    {
      "cell_type": "code",
      "metadata": {
        "id": "jy2_-HYyF1gw",
        "colab_type": "code",
        "outputId": "b0a25214-8bdd-4555-e6cf-00313d26aff0",
        "colab": {
          "base_uri": "https://localhost:8080/",
          "height": 225
        }
      },
      "source": [
        "#參考程式\n",
        "\n",
        "lst=[]\n",
        "for i in range(1,10):\n",
        "    str = input()\n",
        "    lst.append(str)\n",
        "\n",
        "for k in range(1,10):\n",
        "    if k % 3 != 0:\n",
        "#center\n",
        "         print(\"|\"+lst[k-1].ljust(15)+\"|\",end=\" \") \n",
        "    else:\n",
        "         print(\"|\"+lst[k-1].ljust(15)+\"|\")"
      ],
      "execution_count": 0,
      "outputs": [
        {
          "output_type": "stream",
          "text": [
            "apple\n",
            "orange\n",
            "kiwi\n",
            "banana\n",
            "grape\n",
            "pineapple\n",
            "guava\n",
            "cherry\n",
            "blueberry\n",
            "|apple          | |orange         | |kiwi           |\n",
            "|banana         | |grape          | |pineapple      |\n",
            "|guava          | |cherry         | |blueberry      |\n"
          ],
          "name": "stdout"
        }
      ]
    },
    {
      "cell_type": "code",
      "metadata": {
        "id": "7laqbfwTKCJ8",
        "colab_type": "code",
        "colab": {}
      },
      "source": [
        "#Ch8 習題4\n",
        "#撰寫一程式，已依不一定迴圈要求使用者輸入字串，檢視若字串e字元尾端，則將此字串加入lst串列中，最後將其印出若字串e字元尾端，則將此字串加入lst串列中，最後將其印出。當使用者輸入end時將結束輸入的動作。"
      ],
      "execution_count": 0,
      "outputs": []
    },
    {
      "cell_type": "code",
      "metadata": {
        "id": "7QGr58RUIvzT",
        "colab_type": "code",
        "outputId": "a06e12bd-44e1-472b-9d76-ec28f46b4a64",
        "colab": {
          "base_uri": "https://localhost:8080/",
          "height": 158
        }
      },
      "source": [
        "#參考程式\n",
        "\n",
        "lst=[]\n",
        "while True:\n",
        "  str = input()\n",
        "  if str !=\"end\":\n",
        "    if str.endswith(\"e\"):\n",
        "      lst.append(str)\n",
        "  else:\n",
        "    break\n",
        "\n",
        "print(lst)"
      ],
      "execution_count": 0,
      "outputs": [
        {
          "output_type": "stream",
          "text": [
            "apple\n",
            "pineapple\n",
            "banana\n",
            "orange\n",
            "kiwi\n",
            "grape\n",
            "end\n",
            "['apple', 'pineapple', 'orange', 'grape']\n"
          ],
          "name": "stdout"
        }
      ]
    },
    {
      "cell_type": "code",
      "metadata": {
        "id": "6hYI87SVKNsr",
        "colab_type": "code",
        "colab": {}
      },
      "source": [
        "#Ch8 習題5\n",
        "#撰寫一程式，輸入一含有20字元以上的字串，請將字串中的字元屬性印出，如他是英文字母、數字、空白，還是其他屬性。"
      ],
      "execution_count": 0,
      "outputs": []
    },
    {
      "cell_type": "code",
      "metadata": {
        "id": "RwMHK7uzJQtN",
        "colab_type": "code",
        "outputId": "db5a3f1a-b425-481b-d086-2c3a45d86821",
        "colab": {
          "base_uri": "https://localhost:8080/",
          "height": 295
        }
      },
      "source": [
        "#參考程式\n",
        "\n",
        "str=input()\n",
        "for i in range(len(str)):\n",
        "  if str[i].isdigit():\n",
        "    print(str[i]+\":is a digit.\")\n",
        "  elif str[i].isalpha() and str[i].isupper():\n",
        "    print(str[i]+\":is upper alpha.\")\n",
        "  elif str[i].isalpha() and str[i].islower():\n",
        "    print(str[i]+\":is lower alpha.\")\n",
        "  elif str[i].isspace():\n",
        "    print(str[i]+\":is a space.\")\n",
        "  else:\n",
        "    print(str[i]+\":is a symbol character.\")"
      ],
      "execution_count": 0,
      "outputs": [
        {
          "output_type": "stream",
          "text": [
            "I am a student.\n",
            "I:is upper alpha.\n",
            " :is a space.\n",
            "a:is lower alpha.\n",
            "m:is lower alpha.\n",
            " :is a space.\n",
            "a:is lower alpha.\n",
            " :is a space.\n",
            "s:is lower alpha.\n",
            "t:is lower alpha.\n",
            "u:is lower alpha.\n",
            "d:is lower alpha.\n",
            "e:is lower alpha.\n",
            "n:is lower alpha.\n",
            "t:is lower alpha.\n",
            ".:is a symbol character.\n"
          ],
          "name": "stdout"
        }
      ]
    }
  ]
}