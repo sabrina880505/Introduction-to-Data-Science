{
  "nbformat": 4,
  "nbformat_minor": 0,
  "metadata": {
    "colab": {
      "name": "week4-A106260082.ipynb",
      "provenance": []
    },
    "kernelspec": {
      "name": "python3",
      "display_name": "Python 3"
    }
  },
  "cells": [
    {
      "cell_type": "code",
      "metadata": {
        "id": "1Vay5UOXf2Lr",
        "colab_type": "code",
        "outputId": "8d34de9a-5ddf-41be-e2e9-43968a032dc5",
        "colab": {
          "base_uri": "https://localhost:8080/",
          "height": 68
        }
      },
      "source": [
        "tempc=int(input(\"請輸入要轉換的攝氏氣溫:\"))\n",
        "tempf=tempc*9/5+32\n",
        "\n",
        "print (\"經轉換後華氏氣溫為:\",tempf)"
      ],
      "execution_count": 0,
      "outputs": [
        {
          "output_type": "stream",
          "text": [
            "ERROR! Session/line number was not unique in database. History logging moved to new session 75\n",
            "請輸入要轉換的攝氏氣溫:28\n",
            "經轉換後華氏氣溫為: 82.4\n"
          ],
          "name": "stdout"
        }
      ]
    },
    {
      "cell_type": "code",
      "metadata": {
        "id": "GbWns2xdij8u",
        "colab_type": "code",
        "outputId": "515a873f-e236-4452-e27d-f9c1503d5576",
        "colab": {
          "base_uri": "https://localhost:8080/",
          "height": 51
        }
      },
      "source": [
        "again_tempf=int(input(\"請輸入要轉換的攝氏氣溫:\"))\n",
        "again_tempc=(again_tempf-32)*5/9\n",
        "\n",
        "print(\"經轉換後攝氏氣溫為:\",again_tempc)"
      ],
      "execution_count": 0,
      "outputs": [
        {
          "output_type": "stream",
          "text": [
            "請輸入要轉換的攝氏氣溫:77\n",
            "經轉換後攝氏氣溫為: 25.0\n"
          ],
          "name": "stdout"
        }
      ]
    },
    {
      "cell_type": "code",
      "metadata": {
        "id": "2ZoqWzk_ltfm",
        "colab_type": "code",
        "outputId": "b1638406-c3f6-45de-9f1d-78399f882c84",
        "colab": {
          "base_uri": "https://localhost:8080/",
          "height": 34
        }
      },
      "source": [
        "weight=147\n",
        "hight=216\n",
        "\n",
        "bmi_hight=(hight/100)**2\n",
        "bmi=weight/bmi_hight\n",
        "print(bmi)"
      ],
      "execution_count": 0,
      "outputs": [
        {
          "output_type": "stream",
          "text": [
            "31.507201646090532\n"
          ],
          "name": "stdout"
        }
      ]
    },
    {
      "cell_type": "code",
      "metadata": {
        "id": "k6Fti5auo-cI",
        "colab_type": "code",
        "outputId": "0623a2b1-6a82-483c-c864-83fae4f3412a",
        "colab": {
          "base_uri": "https://localhost:8080/",
          "height": 68
        }
      },
      "source": [
        "city=input(\"請輸入城市:\")\n",
        "weather=input(\"請輸入天氣:\")\n",
        "print('我在',city,'，天氣',weather)"
      ],
      "execution_count": 0,
      "outputs": [
        {
          "output_type": "stream",
          "text": [
            "請輸入城市:台北\n",
            "請輸入天氣:晴\n",
            "我在 台北 ，天氣 晴\n"
          ],
          "name": "stdout"
        }
      ]
    },
    {
      "cell_type": "code",
      "metadata": {
        "id": "ZvzV62AnrsGV",
        "colab_type": "code",
        "outputId": "46d49cd3-32fe-451a-a0a1-a20c93005952",
        "colab": {
          "base_uri": "https://localhost:8080/",
          "height": 34
        }
      },
      "source": [
        "ross_said=('''Let's put aside the fact that you \"accidentally\" pick up my grandmother's ring''')\n",
        "print(ross_said)"
      ],
      "execution_count": 0,
      "outputs": [
        {
          "output_type": "stream",
          "text": [
            "Let's put aside the fact that you \"accidentally\" pick up my grandmother's ring\n"
          ],
          "name": "stdout"
        }
      ]
    },
    {
      "cell_type": "code",
      "metadata": {
        "id": "eDsugHHvuPYU",
        "colab_type": "code",
        "outputId": "e8cf7c9d-37c4-4fbe-91f7-80f9c28331fd",
        "colab": {
          "base_uri": "https://localhost:8080/",
          "height": 102
        }
      },
      "source": [
        "name=input(\"請輸入球員姓名:\")\n",
        "name_hight=int(input(\"請輸入球員身高:\"))\n",
        "name_weight=int(input(\"請輸入球員體重:\"))\n",
        "name_bmi=name_weight/(name_hight/100)**2\n",
        "name_bmi2=round(name_bmi,2)\n",
        "print(name,\"的身體質量指數為:\",name_bmi2)\n",
        "if name_bmi >30 :\n",
        "  print(name,\"是否過重:\",'True')\n",
        "else :\n",
        "  print(name,\"是否過重:\",'false')"
      ],
      "execution_count": 0,
      "outputs": [
        {
          "output_type": "stream",
          "text": [
            "請輸入球員姓名:俠客歐尼爾\n",
            "請輸入球員身高:216\n",
            "請輸入球員體重:147\n",
            "俠客歐尼爾 的身體質量指數為: 31.51\n",
            "俠客歐尼爾 是否過重: True\n"
          ],
          "name": "stdout"
        }
      ]
    },
    {
      "cell_type": "code",
      "metadata": {
        "id": "3RpmHmv2x6xr",
        "colab_type": "code",
        "colab": {}
      },
      "source": [
        ""
      ],
      "execution_count": 0,
      "outputs": []
    }
  ]
}