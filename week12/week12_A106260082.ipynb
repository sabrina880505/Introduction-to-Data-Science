{
  "nbformat": 4,
  "nbformat_minor": 0,
  "metadata": {
    "colab": {
      "name": "week12 A106260082.ipynb",
      "provenance": []
    },
    "kernelspec": {
      "name": "python3",
      "display_name": "Python 3"
    }
  },
  "cells": [
    {
      "cell_type": "code",
      "metadata": {
        "id": "ocNxZdX2-CLX",
        "colab_type": "code",
        "colab": {
          "base_uri": "https://localhost:8080/",
          "height": 68
        },
        "outputId": "cac650fe-94b8-4c48-9f22-ce9e5673060b"
      },
      "source": [
        "x = int(input(\"請輸入一個正整數:\"))\n",
        "divisors = []\n",
        "for i in range(1, x+1):\n",
        "    if x % i == 0:\n",
        "        divisors.append(i)\n",
        "print(divisors)\n",
        "n_divisors = len(divisors)\n",
        "if n_divisors == 2:\n",
        "    print(\"{}是質數\".format(x))\n",
        "else:\n",
        "    print(\"{}不是質數\".format(x))"
      ],
      "execution_count": 1,
      "outputs": [
        {
          "output_type": "stream",
          "text": [
            "請輸入一個正整數:1\n",
            "[1]\n",
            "1不是質數\n"
          ],
          "name": "stdout"
        }
      ]
    },
    {
      "cell_type": "code",
      "metadata": {
        "id": "MV3j7_suPm2u",
        "colab_type": "code",
        "colab": {
          "base_uri": "https://localhost:8080/",
          "height": 51
        },
        "outputId": "c41590de-b045-4182-aa3d-45bcbc5ebadf"
      },
      "source": [
        "x = int(input(\"請輸入一個正整數:\"))\n",
        "divisors = []\n",
        "for i in range(1, x+1):\n",
        "    if x % i == 0:\n",
        "        divisors.append(i)\n",
        "print(divisors)"
      ],
      "execution_count": 2,
      "outputs": [
        {
          "output_type": "stream",
          "text": [
            "請輸入一個正整數:59\n",
            "[1, 59]\n"
          ],
          "name": "stdout"
        }
      ]
    },
    {
      "cell_type": "code",
      "metadata": {
        "id": "Gx5F0fH8Ptmr",
        "colab_type": "code",
        "colab": {
          "base_uri": "https://localhost:8080/",
          "height": 156
        },
        "outputId": "82e0e21d-430a-4c5d-947a-abf7a461042b"
      },
      "source": [
        "# random 產生 1 個隨機數\n",
        "import random\n",
        "\n",
        "random.randint(1, 1000)\n",
        "# random 產生 100 個隨機數\n",
        "random_integers = []\n",
        "for i in range(100):\n",
        "    rand_int = random.randint(1, 1000)\n",
        "    random_integers.append(rand_int)\n",
        "print(random_integers)\n",
        "print(len(random_integers))\n",
        "# 找出第一大與第一小的數字\n",
        "print(max(random_integers))\n",
        "print(min(random_integers))\n",
        "# 找出第二大與第二小的數字\n",
        "rand_int_unique = set(random_integers)\n",
        "rand_int_unique_list = list(rand_int_unique)\n",
        "print(rand_int_unique_list)\n",
        "rand_int_unique_list.sort()\n",
        "print(rand_int_unique_list[1])  # second min\n",
        "print(rand_int_unique_list[-2]) # secomd max"
      ],
      "execution_count": 3,
      "outputs": [
        {
          "output_type": "stream",
          "text": [
            "[502, 174, 278, 930, 183, 229, 873, 648, 750, 860, 750, 654, 361, 204, 559, 161, 62, 107, 532, 953, 998, 635, 144, 54, 161, 858, 556, 252, 910, 247, 935, 623, 187, 382, 198, 585, 849, 258, 398, 180, 560, 545, 813, 153, 138, 294, 342, 173, 933, 896, 652, 540, 82, 353, 985, 289, 444, 934, 559, 586, 617, 476, 223, 833, 71, 527, 71, 299, 105, 526, 752, 670, 549, 238, 820, 202, 238, 103, 29, 226, 539, 688, 926, 211, 772, 142, 894, 10, 268, 362, 154, 552, 224, 373, 656, 392, 412, 739, 314, 451]\n",
            "100\n",
            "998\n",
            "10\n",
            "[10, 526, 527, 532, 539, 540, 29, 545, 549, 552, 556, 559, 560, 54, 62, 71, 585, 586, 82, 103, 617, 105, 107, 623, 635, 648, 138, 652, 654, 142, 144, 656, 153, 154, 670, 161, 173, 174, 688, 180, 183, 187, 198, 202, 204, 211, 223, 224, 226, 739, 229, 750, 238, 752, 247, 252, 258, 772, 268, 278, 289, 294, 299, 813, 820, 314, 833, 849, 342, 858, 860, 353, 873, 361, 362, 373, 894, 382, 896, 392, 910, 398, 412, 926, 930, 933, 934, 935, 953, 444, 451, 985, 476, 998, 502]\n",
            "29\n",
            "985\n"
          ],
          "name": "stdout"
        }
      ]
    },
    {
      "cell_type": "code",
      "metadata": {
        "id": "CWKT10C3Sy6n",
        "colab_type": "code",
        "colab": {
          "base_uri": "https://localhost:8080/",
          "height": 85
        },
        "outputId": "64f75b99-c0e2-49cb-dac5-b143569141ed"
      },
      "source": [
        "avengers = [\"The Avengers\", \"Avengers: Age of Ultron\", \"Avengers: Infinity War\", \"Avengers: Endgame\"]\n",
        "for i, av in enumerate(avengers):\n",
        "    print(\"第{}部上映的復仇者聯盟是:{}\".format(i+1, av))"
      ],
      "execution_count": 4,
      "outputs": [
        {
          "output_type": "stream",
          "text": [
            "第1部上映的復仇者聯盟是:The Avengers\n",
            "第2部上映的復仇者聯盟是:Avengers: Age of Ultron\n",
            "第3部上映的復仇者聯盟是:Avengers: Infinity War\n",
            "第4部上映的復仇者聯盟是:Avengers: Endgame\n"
          ],
          "name": "stdout"
        }
      ]
    },
    {
      "cell_type": "code",
      "metadata": {
        "id": "tufgXMu-dYvh",
        "colab_type": "code",
        "colab": {
          "base_uri": "https://localhost:8080/",
          "height": 85
        },
        "outputId": "69cf6d58-24f7-4f45-9b81-1ebcc79ea050"
      },
      "source": [
        "years = [2012, 2015, 2018, 2019]\n",
        "for year, movie in zip(years, avengers):\n",
        "    print(\"{}上映的年份是{}\".format(movie, year))"
      ],
      "execution_count": 5,
      "outputs": [
        {
          "output_type": "stream",
          "text": [
            "The Avengers上映的年份是2012\n",
            "Avengers: Age of Ultron上映的年份是2015\n",
            "Avengers: Infinity War上映的年份是2018\n",
            "Avengers: Endgame上映的年份是2019\n"
          ],
          "name": "stdout"
        }
      ]
    },
    {
      "cell_type": "code",
      "metadata": {
        "id": "Z5XX0d-Je50y",
        "colab_type": "code",
        "colab": {}
      },
      "source": [
        ""
      ],
      "execution_count": 0,
      "outputs": []
    }
  ]
}