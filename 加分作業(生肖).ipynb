{
  "nbformat": 4,
  "nbformat_minor": 0,
  "metadata": {
    "colab": {
      "name": "加分作業(生肖).ipynb",
      "provenance": [],
      "authorship_tag": "ABX9TyN2zARGudzzPgdtXWW5+YHC",
      "include_colab_link": true
    },
    "kernelspec": {
      "name": "python3",
      "display_name": "Python 3"
    }
  },
  "cells": [
    {
      "cell_type": "markdown",
      "metadata": {
        "id": "view-in-github",
        "colab_type": "text"
      },
      "source": [
        "<a href=\"https://colab.research.google.com/github/sabrina880505/Introduction-to-Data-Science/blob/master/%E5%8A%A0%E5%88%86%E4%BD%9C%E6%A5%AD(%E7%94%9F%E8%82%96).ipynb\" target=\"_parent\"><img src=\"https://colab.research.google.com/assets/colab-badge.svg\" alt=\"Open In Colab\"/></a>"
      ]
    },
    {
      "cell_type": "code",
      "metadata": {
        "id": "a8Ddb6U_-uHf",
        "colab_type": "code",
        "colab": {}
      },
      "source": [
        "#加分作業：\n",
        "\n",
        "#你打算和你的英國朋友說說十二生肖的故事。\n",
        "#為了準備PPT，先在自己的電腦找了找圖片，結果發現你有10張動物的照片，依序分別是\n",
        "#「牛、兔、馬、羊、猴、雞、鳥、狗、豬、貓」。\n",
        "#請問\n",
        "#(1)你得刪掉現有哪些動物的圖片？\n",
        "#(2)你還得從網路上找哪些動物的圖片？\n",
        "#(3)你要怎麼調整圖片的順序，才能依序說明十二生肖的故事呢？\n",
        "#～請用Python程式碼寫出答案。\n",
        "#～提示：用上星期業師教的資料結構List。\n",
        "#～也歡迎把題目改的更漂亮！改題目也加分！！"
      ],
      "execution_count": 0,
      "outputs": []
    },
    {
      "cell_type": "code",
      "metadata": {
        "id": "WfCdvmI-_tur",
        "colab_type": "code",
        "colab": {
          "base_uri": "https://localhost:8080/",
          "height": 68
        },
        "outputId": "cd88a080-2e5a-4bc4-cd5f-0a83e483f425"
      },
      "source": [
        "animal_list=['牛','兔','馬','羊','猴','雞','鳥','狗','豬','貓']\n",
        "ani_list=['鼠','牛','虎','兔','龍','蛇','馬','羊','猴','雞','狗','豬']\n",
        "print(\"(1)您得刪掉現有的這幾張圖片:\",list(set(animal_list)-set(ani_list)))\n",
        "print(\"(2)您還得從網路上找到這些圖片:\",list(set(ani_list)-set(animal_list)))\n",
        "animal_list.insert(0,'鼠')\n",
        "animal_list.insert(2,'虎')\n",
        "animal_list.insert(4,'龍')\n",
        "animal_list.insert(5,'蛇')\n",
        "animal_list.remove('鳥')\n",
        "animal_list.remove('貓')\n",
        "print(animal_list)"
      ],
      "execution_count": 24,
      "outputs": [
        {
          "output_type": "stream",
          "text": [
            "(1)您得刪掉現有的這幾張圖片: ['鳥', '貓']\n",
            "(2)您還得從網路上找到這些圖片: ['鼠', '龍', '虎', '蛇']\n",
            "['鼠', '牛', '虎', '兔', '龍', '蛇', '馬', '羊', '猴', '雞', '狗', '豬']\n"
          ],
          "name": "stdout"
        }
      ]
    },
    {
      "cell_type": "code",
      "metadata": {
        "id": "KPirsf-VCEkR",
        "colab_type": "code",
        "colab": {}
      },
      "source": [
        ""
      ],
      "execution_count": 0,
      "outputs": []
    }
  ]
}