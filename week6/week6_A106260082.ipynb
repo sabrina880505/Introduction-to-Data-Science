{
  "nbformat": 4,
  "nbformat_minor": 0,
  "metadata": {
    "colab": {
      "name": "week6-A106260082.ipynb",
      "provenance": []
    },
    "kernelspec": {
      "name": "python3",
      "display_name": "Python 3"
    }
  },
  "cells": [
    {
      "cell_type": "code",
      "metadata": {
        "id": "qAVUqBdYms6p",
        "colab_type": "code",
        "colab": {
          "base_uri": "https://localhost:8080/",
          "height": 68
        },
        "outputId": "50d1c5fe-6dc6-410b-da19-9f4f4e692eaa"
      },
      "source": [
        "#月薪超過 4 萬或存款超過 50 萬就發信用卡\n",
        "wage=int(input('請輸入你的月薪:'))\n",
        "save=int(input('請輸入你的存款:')) \n",
        "if wage >40000 :\n",
        "  print (\"可以發信用卡!\")\n",
        "elif save >500000 :\n",
        "  print (\"可以發信用卡!\")\n",
        "else :\n",
        "  print(\"不可以發信用卡喔~\")\n",
        "  \n"
      ],
      "execution_count": 4,
      "outputs": [
        {
          "output_type": "stream",
          "text": [
            "請輸入你的月薪:40001\n",
            "請輸入你的存款:499999\n",
            "可以發信用卡!\n"
          ],
          "name": "stdout"
        }
      ]
    },
    {
      "cell_type": "code",
      "metadata": {
        "id": "9QQ_4N4E1G6Y",
        "colab_type": "code",
        "colab": {
          "base_uri": "https://localhost:8080/",
          "height": 51
        },
        "outputId": "f4bbc772-bca0-4b3e-9850-c4947bd42cda"
      },
      "source": [
        "#判斷奇數偶數\n",
        "user=int(input('請輸入一個正整數:'))\n",
        "if user%2 ==0:\n",
        "  print(user,'是個偶數')\n",
        "else :\n",
        "  print(user,'是個奇數')  "
      ],
      "execution_count": 7,
      "outputs": [
        {
          "output_type": "stream",
          "text": [
            "請輸入一個正整數:5566\n",
            "5566 是個偶數\n"
          ],
          "name": "stdout"
        }
      ]
    },
    {
      "cell_type": "code",
      "metadata": {
        "id": "PGmvKY2u3WXg",
        "colab_type": "code",
        "colab": {
          "base_uri": "https://localhost:8080/",
          "height": 51
        },
        "outputId": "e07ab76f-417b-4fbb-d6bb-613a0c05bd4e"
      },
      "source": [
        "#依身分證字號尾數決定星期幾可以購買口罩\n",
        "id=int(input('請輸入您身分證字號的尾數：'))\n",
        "if id%2 ==0:\n",
        "  print('星期二四六日領')\n",
        "else :\n",
        "  print('星期一三五日領')  "
      ],
      "execution_count": 9,
      "outputs": [
        {
          "output_type": "stream",
          "text": [
            "請輸入您身分證字號的尾數：6\n",
            "星期二四六日領\n"
          ],
          "name": "stdout"
        }
      ]
    },
    {
      "cell_type": "code",
      "metadata": {
        "id": "YSA6gAQa5RF6",
        "colab_type": "code",
        "colab": {
          "base_uri": "https://localhost:8080/",
          "height": 68
        },
        "outputId": "167dfddd-112e-48ea-a87a-9cca6087b564"
      },
      "source": [
        "#判斷 BMI 的類別標籤\n",
        "height=int(input('請輸入您的身高(公分):'))\n",
        "weight=int(input('請輸入您的體重(公斤):'))\n",
        "bmi=weight/(height/100)**2\n",
        "\n",
        "if bmi <18.5:\n",
        "  print(\"身高{}公分、體重{}公斤、是Under weight\".format(height,weight))\n",
        "elif 18.5<= bmi <25:\n",
        "  print(\"身高{}公分、體重{}公斤、是Normal weight\".format(height,weight))\n",
        "elif 25<= bmi <30:\n",
        "  print(\"身高{}公分、體重{}公斤、是Over weight\".format(height,weight))\n",
        "  print(\"身高{}公分、體重{}公斤、是Obese\".format(height,weight))     "
      ],
      "execution_count": 15,
      "outputs": [
        {
          "output_type": "stream",
          "text": [
            "請輸入您的身高(公分):200\n",
            "請輸入您的體重(公斤):80\n",
            "身高200公分、體重80公斤、是Normal weight\n"
          ],
          "name": "stdout"
        }
      ]
    },
    {
      "cell_type": "code",
      "metadata": {
        "id": "OYVxDqbt9xFv",
        "colab_type": "code",
        "colab": {
          "base_uri": "https://localhost:8080/",
          "height": 51
        },
        "outputId": "d530bb55-fc23-4567-a353-5297e5ee6419"
      },
      "source": [
        "#Fizz-Buzz\n",
        "number=int(input('請輸入一個正整數:'))\n",
        "if number%15==0 :\n",
        "  print('Fizz Buzz!')\n",
        "elif number%3==0 :\n",
        "  print('Fizz!')\n",
        "elif number%5==0:\n",
        "  print('Buzz!')\n",
        "else :\n",
        "  print (number)    \n"
      ],
      "execution_count": 21,
      "outputs": [
        {
          "output_type": "stream",
          "text": [
            "請輸入一個正整數:16\n",
            "16\n"
          ],
          "name": "stdout"
        }
      ]
    },
    {
      "cell_type": "code",
      "metadata": {
        "id": "x2odAYYlBCeU",
        "colab_type": "code",
        "colab": {}
      },
      "source": [
        ""
      ],
      "execution_count": 0,
      "outputs": []
    }
  ]
}