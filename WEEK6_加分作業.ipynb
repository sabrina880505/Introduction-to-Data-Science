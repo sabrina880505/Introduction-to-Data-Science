{
  "nbformat": 4,
  "nbformat_minor": 0,
  "metadata": {
    "colab": {
      "name": "WEEK6 加分作業.ipynb",
      "provenance": [],
      "authorship_tag": "ABX9TyN8QDn6NkUkfq4pAwiK5RJt",
      "include_colab_link": true
    },
    "kernelspec": {
      "name": "python3",
      "display_name": "Python 3"
    }
  },
  "cells": [
    {
      "cell_type": "markdown",
      "metadata": {
        "id": "view-in-github",
        "colab_type": "text"
      },
      "source": [
        "<a href=\"https://colab.research.google.com/github/sabrina880505/Introduction-to-Data-Science/blob/master/WEEK6_%E5%8A%A0%E5%88%86%E4%BD%9C%E6%A5%AD.ipynb\" target=\"_parent\"><img src=\"https://colab.research.google.com/assets/colab-badge.svg\" alt=\"Open In Colab\"/></a>"
      ]
    },
    {
      "cell_type": "code",
      "metadata": {
        "id": "qUMSlIuL0k6b",
        "colab_type": "code",
        "colab": {}
      },
      "source": [
        "#Week 6 加分作業\n",
        "#請問\n",
        "#(1)若x = \"Python\",  y = \"Python\"，則(x is y) 和 (x==y)的結果是True還是False? \n",
        "#(2)若x = \"Python\",  y = x，則(x is y) 和 (x==y)的結果是True還是False?\n",
        "#(3) 二者答案為什麼一樣或不一樣？\n"
      ],
      "execution_count": 0,
      "outputs": []
    },
    {
      "cell_type": "code",
      "metadata": {
        "id": "d3mDBaYZ0xmX",
        "colab_type": "code",
        "colab": {
          "base_uri": "https://localhost:8080/",
          "height": 85
        },
        "outputId": "ef087eb5-7472-466b-e2ae-13d49c0e1ae8"
      },
      "source": [
        "#(1)若x = \"Python\",  y = \"Python\"，則(x is y) 和 (x==y)的結果是True還是False? \n",
        "x =\"Python\"\n",
        "y =\"Python\"\n",
        "\n",
        "print(x is y)\n",
        "print(x == y)\n",
        "\n",
        "print(id(x))\n",
        "print(id(y))"
      ],
      "execution_count": 8,
      "outputs": [
        {
          "output_type": "stream",
          "text": [
            "True\n",
            "True\n",
            "140381659839600\n",
            "140381659839600\n"
          ],
          "name": "stdout"
        }
      ]
    },
    {
      "cell_type": "code",
      "metadata": {
        "id": "GOVdg5eu1-db",
        "colab_type": "code",
        "colab": {
          "base_uri": "https://localhost:8080/",
          "height": 85
        },
        "outputId": "d46b4387-ddd3-4ea7-a74a-599026b56ae9"
      },
      "source": [
        "#(2)若x = \"Python\",  y = x，則(x is y) 和 (x==y)的結果是True還是False?\n",
        "a =\"Python\"\n",
        "b =a\n",
        "print(a is b)\n",
        "print(a == b)\n",
        "\n",
        "print(id(a))\n",
        "print(id(b))"
      ],
      "execution_count": 10,
      "outputs": [
        {
          "output_type": "stream",
          "text": [
            "True\n",
            "True\n",
            "140381659839600\n",
            "140381659839600\n"
          ],
          "name": "stdout"
        }
      ]
    },
    {
      "cell_type": "code",
      "metadata": {
        "id": "OIMGfsR829it",
        "colab_type": "code",
        "colab": {}
      },
      "source": [
        "#(3) 二者答案為什麼一樣或不一樣？\n",
        "#兩者答案為一樣。因為他們的內存地址是一樣的，而值則一定會相同。"
      ],
      "execution_count": 0,
      "outputs": []
    }
  ]
}