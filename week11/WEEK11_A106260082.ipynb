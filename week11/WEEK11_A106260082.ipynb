{
  "nbformat": 4,
  "nbformat_minor": 0,
  "metadata": {
    "colab": {
      "name": "WEEK11-A106260082.ipynb",
      "provenance": [],
      "collapsed_sections": []
    },
    "kernelspec": {
      "name": "python3",
      "display_name": "Python 3"
    }
  },
  "cells": [
    {
      "cell_type": "code",
      "metadata": {
        "id": "34f0AusR5ctM",
        "colab_type": "code",
        "outputId": "a16bb476-922e-4c80-b59b-356aed7ac26f",
        "colab": {
          "base_uri": "https://localhost:8080/",
          "height": 51
        }
      },
      "source": [
        "primes=[2,3,5,7,11]\n",
        "print(type(primes))\n",
        "primes=(2,3,5,7,11)\n",
        "print(type(primes))"
      ],
      "execution_count": 0,
      "outputs": [
        {
          "output_type": "stream",
          "text": [
            "<class 'list'>\n",
            "<class 'tuple'>\n"
          ],
          "name": "stdout"
        }
      ]
    },
    {
      "cell_type": "code",
      "metadata": {
        "id": "fInujdYz51k4",
        "colab_type": "code",
        "outputId": "d1a4a567-c0b2-4335-cd23-959e4330104d",
        "colab": {
          "base_uri": "https://localhost:8080/",
          "height": 85
        }
      },
      "source": [
        "print(primes[0])\n",
        "print(primes[1])\n",
        "print(primes[-1])\n",
        "print(primes[-2])"
      ],
      "execution_count": 0,
      "outputs": [
        {
          "output_type": "stream",
          "text": [
            "2\n",
            "3\n",
            "11\n",
            "7\n"
          ],
          "name": "stdout"
        }
      ]
    },
    {
      "cell_type": "code",
      "metadata": {
        "id": "biSvj59s6DA6",
        "colab_type": "code",
        "outputId": "7b6cfa81-2c62-441e-d2b1-3059bda7ad6e",
        "colab": {
          "base_uri": "https://localhost:8080/",
          "height": 34
        }
      },
      "source": [
        "print(primes[::2])"
      ],
      "execution_count": 0,
      "outputs": [
        {
          "output_type": "stream",
          "text": [
            "[2, 5, 11]\n"
          ],
          "name": "stdout"
        }
      ]
    },
    {
      "cell_type": "code",
      "metadata": {
        "id": "rdKiDfYM6UpL",
        "colab_type": "code",
        "outputId": "b476177c-e489-413c-bf9f-2cb89a71889c",
        "colab": {
          "base_uri": "https://localhost:8080/",
          "height": 34
        }
      },
      "source": [
        "primes_list=[2,3,5,7,11]\n",
        "primes_list[-1]=13\n",
        "print(primes_list) "
      ],
      "execution_count": 0,
      "outputs": [
        {
          "output_type": "stream",
          "text": [
            "[2, 3, 5, 7, 13]\n"
          ],
          "name": "stdout"
        }
      ]
    },
    {
      "cell_type": "code",
      "metadata": {
        "id": "B830mk0461rM",
        "colab_type": "code",
        "outputId": "320c1461-8635-40e9-8502-0c20b584bea8",
        "colab": {
          "base_uri": "https://localhost:8080/",
          "height": 34
        }
      },
      "source": [
        "primes_list.insert(-1,11)\n",
        "print(primes_list)"
      ],
      "execution_count": 0,
      "outputs": [
        {
          "output_type": "stream",
          "text": [
            "[2, 3, 5, 7, 11, 13]\n"
          ],
          "name": "stdout"
        }
      ]
    },
    {
      "cell_type": "code",
      "metadata": {
        "id": "cVhi0bcV7T6q",
        "colab_type": "code",
        "outputId": "20ac46cc-17e2-4837-d628-314963b38bb3",
        "colab": {
          "base_uri": "https://localhost:8080/",
          "height": 68
        }
      },
      "source": [
        "x = 0.25\n",
        "print(type(x))\n",
        "print(x.as_integer_ratio())\n",
        "print(type(x.as_integer_ratio()))"
      ],
      "execution_count": 0,
      "outputs": [
        {
          "output_type": "stream",
          "text": [
            "<class 'float'>\n",
            "(1, 4)\n",
            "<class 'tuple'>\n"
          ],
          "name": "stdout"
        }
      ]
    },
    {
      "cell_type": "code",
      "metadata": {
        "id": "zDSgme_y9izF",
        "colab_type": "code",
        "outputId": "e96b10f8-86f2-4278-e8e8-d458636e9404",
        "colab": {
          "base_uri": "https://localhost:8080/",
          "height": 51
        }
      },
      "source": [
        "def where_are_you_from(city, country):\n",
        "    return city, country\n",
        "\n",
        "print(where_are_you_from(\"Taipei\", \"Taiwan\"))\n",
        "print(type(where_are_you_from(\"Taipei\", \"Taiwan\")))"
      ],
      "execution_count": 0,
      "outputs": [
        {
          "output_type": "stream",
          "text": [
            "('Taipei', 'Taiwan')\n",
            "<class 'tuple'>\n"
          ],
          "name": "stdout"
        }
      ]
    },
    {
      "cell_type": "code",
      "metadata": {
        "id": "yzzwMgWp_tU0",
        "colab_type": "code",
        "outputId": "9821b5f7-3eb2-43f6-99a8-15aa4bd2dd5d",
        "colab": {
          "base_uri": "https://localhost:8080/",
          "height": 51
        }
      },
      "source": [
        "my_city, my_country = where_are_you_from(\"Taipei\", \"Taiwan\")\n",
        "print(my_city)\n",
        "print(my_country)"
      ],
      "execution_count": 0,
      "outputs": [
        {
          "output_type": "stream",
          "text": [
            "Taipei\n",
            "Taiwan\n"
          ],
          "name": "stdout"
        }
      ]
    },
    {
      "cell_type": "code",
      "metadata": {
        "id": "n_4kRFnJ_v5z",
        "colab_type": "code",
        "outputId": "1c2a3f29-c81a-48c0-fc84-c017fd8cf5f2",
        "colab": {
          "base_uri": "https://localhost:8080/",
          "height": 51
        }
      },
      "source": [
        "numerator, denominator = x.as_integer_ratio()\n",
        "print(numerator)\n",
        "print(denominator)"
      ],
      "execution_count": 0,
      "outputs": [
        {
          "output_type": "stream",
          "text": [
            "1\n",
            "4\n"
          ],
          "name": "stdout"
        }
      ]
    },
    {
      "cell_type": "code",
      "metadata": {
        "id": "uuzsp_WY_x_J",
        "colab_type": "code",
        "outputId": "37c4d975-3889-48c4-f46e-0f7df166afde",
        "colab": {
          "base_uri": "https://localhost:8080/",
          "height": 88
        }
      },
      "source": [
        "the_avengers = {\n",
        "    \"Iron Man\": \"Tony Stark\",\n",
        "    \"Captain America\": \"Steve Rogers\",\n",
        "    \"Hulk\": \"Bruce Banner\",\n",
        "    \"Thor\": \"Thor\",\n",
        "    \"Black Widow\": \"Natasha Romanoff\",\n",
        "    \"Hawkeye\": \"Clint Barton\"\n",
        "}\n",
        "\n",
        "print(the_avengers.keys())\n",
        "print(the_avengers.values())\n",
        "print(the_avengers.items())"
      ],
      "execution_count": 0,
      "outputs": [
        {
          "output_type": "stream",
          "text": [
            "dict_keys(['Iron Man', 'Captain America', 'Hulk', 'Thor', 'Black Widow', 'Hawkeye'])\n",
            "dict_values(['Tony Stark', 'Steve Rogers', 'Bruce Banner', 'Thor', 'Natasha Romanoff', 'Clint Barton'])\n",
            "dict_items([('Iron Man', 'Tony Stark'), ('Captain America', 'Steve Rogers'), ('Hulk', 'Bruce Banner'), ('Thor', 'Thor'), ('Black Widow', 'Natasha Romanoff'), ('Hawkeye', 'Clint Barton')])\n"
          ],
          "name": "stdout"
        }
      ]
    },
    {
      "cell_type": "code",
      "metadata": {
        "id": "zXYHXPIGBK41",
        "colab_type": "code",
        "outputId": "65675f2a-ed7d-4136-cad6-a45d2a1eb5f1",
        "colab": {
          "base_uri": "https://localhost:8080/",
          "height": 68
        }
      },
      "source": [
        "#紓困\n",
        "living_area=input(\"請輸入您的居住城市:\")\n",
        "print(living_area)\n",
        "\n",
        "\n",
        "if living_area ==\"臺北市\":\n",
        "  print(\"{}的每人每月最低生活費為{:,}\".format(living_area, 17005))\n",
        "elif living_area == \"新北市\":\n",
        "  print(\"{}的每人每月最低生活費為{:,}\".format(living_area, 15500))\n",
        "elif living_area == \"桃園市\":\n",
        "  print(\"{}的每人每月最低生活費為{:,}\".format(living_area, 15281))\n",
        "elif living_area == \"臺中市\":\n",
        "  print(\"{}的每人每月最低生活費為{:,}\".format(living_area, 14596))  \n",
        "elif living_area == \"臺南市\":\n",
        "  print(\"{}的每人每月最低生活費為{:,}\".format(living_area, 12388))\n",
        "elif living_area ==\"高雄市\":\n",
        "  print(\"{}的每人每月最低生活費為{:,}\".format(living_area, 13099))\n",
        "elif living_area == \"金門縣\":\n",
        "  print(\"{}的每人每月最低生活費為{:,}\".format(living_area, 11648))\n",
        "elif living_area ==\"連江縣\":\n",
        "  print(\"{}的每人每月最低生活費為{:,}\".format(living_area, 11648))\n",
        "elif living_area==\"非六都縣市\":\n",
        "  print(\"{}的每人每月最低生活費為{:,}\".format(living_area, 12388))\n",
        "else:\n",
        "  print(\"請重新輸入!\")            "
      ],
      "execution_count": 0,
      "outputs": [
        {
          "output_type": "stream",
          "text": [
            "請輸入您的居住城市:555\n",
            "555\n",
            "請重新輸入!\n"
          ],
          "name": "stdout"
        }
      ]
    },
    {
      "cell_type": "code",
      "metadata": {
        "id": "8AnOAg6jDqJJ",
        "colab_type": "code",
        "outputId": "c275aef4-4a03-4809-a7e5-64b0533895d2",
        "colab": {
          "base_uri": "https://localhost:8080/",
          "height": 51
        }
      },
      "source": [
        "living_cost_dict = {\n",
        "    '臺北市': 17005,\n",
        "    '新北市': 15500,\n",
        "    '桃園市': 15281,\n",
        "    '臺中市': 14596,\n",
        "    '臺南市': 12388,\n",
        "    '高雄市': 13099,\n",
        "    '金門縣': 11648,\n",
        "    '連江縣': 11648,\n",
        "    '非六都縣市': 12388\n",
        "}\n",
        "living_area = input('請輸入您的居住縣市:')\n",
        "try:\n",
        "    living_cost = living_cost_dict[living_area]\n",
        "    print(\"{}的每人每月最低生活費為{:,}\".format(living_area, living_cost))\n",
        "except KeyError:\n",
        "    print(\"請重新輸入!!\")    "
      ],
      "execution_count": 0,
      "outputs": [
        {
          "output_type": "stream",
          "text": [
            "請輸入您的居住縣市:花蓮縣\n",
            "請重新輸入!!\n"
          ],
          "name": "stdout"
        }
      ]
    },
    {
      "cell_type": "code",
      "metadata": {
        "id": "83458a36P3VY",
        "colab_type": "code",
        "outputId": "d7e1cca2-5bdd-422c-a2ec-14d56e0091fa",
        "colab": {
          "base_uri": "https://localhost:8080/",
          "height": 34
        }
      },
      "source": [
        "#選單\n",
        "living_cost_dict = {\n",
        "    '臺北市': 17005,\n",
        "    '新北市': 15500,\n",
        "    '桃園市': 15281,\n",
        "    '臺中市': 14596,\n",
        "    '臺南市': 12388,\n",
        "    '高雄市': 13099,\n",
        "    '非六都之縣市': 12388,\n",
        "    '金門縣連江縣': 11648\n",
        "}\n",
        "\n",
        "living_area = '\\u91D1\\u9580\\u7E23\\u9023\\u6C5F\\u7E23' #@param ['臺北市', '新北市', '桃園市', '臺中市', '臺南市', '高雄市', '非六都之縣市', '金門縣連江縣']\n",
        "living_cost = living_cost_dict[living_area]\n",
        "print(\"{}的每人每月最低生活費為{:,}\".format(living_area, living_cost))"
      ],
      "execution_count": 0,
      "outputs": [
        {
          "output_type": "stream",
          "text": [
            "金門縣連江縣的每人每月最低生活費為11,648\n"
          ],
          "name": "stdout"
        }
      ]
    },
    {
      "cell_type": "code",
      "metadata": {
        "id": "kckFBfmqVvxu",
        "colab_type": "code",
        "colab": {}
      },
      "source": [
        ""
      ],
      "execution_count": 0,
      "outputs": []
    }
  ]
}