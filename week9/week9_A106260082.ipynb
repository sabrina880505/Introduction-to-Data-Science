{
  "nbformat": 4,
  "nbformat_minor": 0,
  "metadata": {
    "colab": {
      "name": "week9 A106260082.ipynb",
      "provenance": []
    },
    "kernelspec": {
      "name": "python3",
      "display_name": "Python 3"
    }
  },
  "cells": [
    {
      "cell_type": "code",
      "metadata": {
        "id": "Ry0DiNp7xv1j",
        "colab_type": "code",
        "colab": {
          "base_uri": "https://localhost:8080/",
          "height": 102
        },
        "outputId": "977eae12-0015-4d1c-9295-4a7587d25cfe"
      },
      "source": [
        "x = int(input(\"請輸入起始的整數:\"))\n",
        "y = int(input(\"請輸入終止的整數:\"))\n",
        "i = x\n",
        "while i <= y:\n",
        "  if i%2 ==1:\n",
        "    print(i)\n",
        "  i+=1"
      ],
      "execution_count": 2,
      "outputs": [
        {
          "output_type": "stream",
          "text": [
            "請輸入起始的整數:5\n",
            "請輸入終止的整數:10\n",
            "5\n",
            "7\n",
            "9\n"
          ],
          "name": "stdout"
        }
      ]
    },
    {
      "cell_type": "code",
      "metadata": {
        "id": "r63QgKe8CI7p",
        "colab_type": "code",
        "colab": {
          "base_uri": "https://localhost:8080/",
          "height": 85
        },
        "outputId": "f191fbd9-afed-4939-e04e-eff76d86a28c"
      },
      "source": [
        "x = int(input(\"請輸入起始的整數:\"))\n",
        "y = int(input(\"請輸入終止的整數:\"))\n",
        "odd_counter = 0 \n",
        "i = x \n",
        "while i <= y: \n",
        "    if i % 2 == 1:   \n",
        "        odd_counter += 1 \n",
        "    \n",
        "    i += 1 \n",
        "print(\"======\")\n",
        "print(odd_counter)"
      ],
      "execution_count": 3,
      "outputs": [
        {
          "output_type": "stream",
          "text": [
            "請輸入起始的整數:5\n",
            "請輸入終止的整數:10\n",
            "======\n",
            "3\n"
          ],
          "name": "stdout"
        }
      ]
    },
    {
      "cell_type": "code",
      "metadata": {
        "id": "May-LQX8Htp6",
        "colab_type": "code",
        "colab": {
          "base_uri": "https://localhost:8080/",
          "height": 85
        },
        "outputId": "808cbc34-0a9d-415b-9996-6fc55e9b1abe"
      },
      "source": [
        "x = int(input(\"請輸入起始的整數:\"))\n",
        "y = int(input(\"請輸入終止的整數:\"))\n",
        "odd_summation = 0 \n",
        "i = x \n",
        "while i <= y: \n",
        "    \n",
        "    if i % 2 == 1:\n",
        "        odd_summation = odd_summation + i \n",
        "    i += 1 \n",
        "print(\"======\")\n",
        "print(odd_summation)"
      ],
      "execution_count": 7,
      "outputs": [
        {
          "output_type": "stream",
          "text": [
            "請輸入起始的整數:5\n",
            "請輸入終止的整數:10\n",
            "======\n",
            "21\n"
          ],
          "name": "stdout"
        }
      ]
    },
    {
      "cell_type": "code",
      "metadata": {
        "id": "UkP7nknIIKVH",
        "colab_type": "code",
        "colab": {
          "base_uri": "https://localhost:8080/",
          "height": 204
        },
        "outputId": "44312e86-98a0-44f3-99cc-d029f608e214"
      },
      "source": [
        "x = int(input(\"請輸入起始的整數:\"))\n",
        "y = int(input(\"請輸入終止的整數:\"))\n",
        "odd_summation = 0 \n",
        "odd_counter = 0\n",
        "i = x \n",
        "while i <= y:     \n",
        "    if i % 2 == 1:\n",
        "        odd_counter += 1 \n",
        "        odd_summation += i \n",
        "        print(\"現在的整數是:{}, 奇數計數為{}個, 總和為{}\".format(i, odd_counter, odd_summation))\n",
        "    else:\n",
        "        print(\"現在的整數是:{}, 奇數計數為{}個, 總和為{}\".format(i, odd_counter, odd_summation))\n",
        "    i += 1 \n",
        "print(\"======\")\n",
        "print(odd_counter)\n",
        "print(odd_summation)"
      ],
      "execution_count": 8,
      "outputs": [
        {
          "output_type": "stream",
          "text": [
            "請輸入起始的整數:5\n",
            "請輸入終止的整數:10\n",
            "現在的整數是:5, 奇數計數為1個, 總和為5\n",
            "現在的整數是:6, 奇數計數為1個, 總和為5\n",
            "現在的整數是:7, 奇數計數為2個, 總和為12\n",
            "現在的整數是:8, 奇數計數為2個, 總和為12\n",
            "現在的整數是:9, 奇數計數為3個, 總和為21\n",
            "現在的整數是:10, 奇數計數為3個, 總和為21\n",
            "======\n",
            "3\n",
            "21\n"
          ],
          "name": "stdout"
        }
      ]
    },
    {
      "cell_type": "code",
      "metadata": {
        "id": "NGIVnT0PJ-cQ",
        "colab_type": "code",
        "colab": {
          "base_uri": "https://localhost:8080/",
          "height": 442
        },
        "outputId": "96f2a14b-20c0-428c-e4eb-80e613cf0c8c"
      },
      "source": [
        "x = int(input(\"請輸入一個正整數:\"))\n",
        "i = 1\n",
        "divisor_counter=0\n",
        "while i <=x:\n",
        "    if x % i==0:\n",
        "         divisor_counter += 1\n",
        "         print(\"{}可以被{}整除\".format(x,i))\n",
        "         print(\"因數個數目前有{}個\".format(divisor_counter))\n",
        "         print(\"======\")\n",
        "    i+=1\n"
      ],
      "execution_count": 15,
      "outputs": [
        {
          "output_type": "stream",
          "text": [
            "請輸入一個正整數:56\n",
            "56可以被1整除\n",
            "因數個數目前有1個\n",
            "======\n",
            "56可以被2整除\n",
            "因數個數目前有2個\n",
            "======\n",
            "56可以被4整除\n",
            "因數個數目前有3個\n",
            "======\n",
            "56可以被7整除\n",
            "因數個數目前有4個\n",
            "======\n",
            "56可以被8整除\n",
            "因數個數目前有5個\n",
            "======\n",
            "56可以被14整除\n",
            "因數個數目前有6個\n",
            "======\n",
            "56可以被28整除\n",
            "因數個數目前有7個\n",
            "======\n",
            "56可以被56整除\n",
            "因數個數目前有8個\n",
            "======\n"
          ],
          "name": "stdout"
        }
      ]
    },
    {
      "cell_type": "code",
      "metadata": {
        "id": "AAomPtteLW60",
        "colab_type": "code",
        "colab": {
          "base_uri": "https://localhost:8080/",
          "height": 340
        },
        "outputId": "550371e5-93ec-4bf7-d311-acfa573d3497"
      },
      "source": [
        "x = int(input(\"請輸入一個正整數:\"))\n",
        "i = 1\n",
        "divisor_counter = 0 \n",
        "while i <= x: \n",
        "    if x % i == 0:\n",
        "        divisor_counter += 1\n",
        "        print(\"{}可以被{}整除\".format(x, i))\n",
        "        print(\"因數個數目前有{}個\".format(divisor_counter))\n",
        "        print(\"======\")\n",
        "    i += 1 \n",
        "print(\"### Answer ###\")\n",
        "print(\"{}共有{}個因數\".format(x, divisor_counter))\n",
        "if divisor_counter == 2:\n",
        "    print(\"{}是質數\".format(x))\n",
        "else:\n",
        "    print(\"{}不是質數\".format(x))"
      ],
      "execution_count": 16,
      "outputs": [
        {
          "output_type": "stream",
          "text": [
            "請輸入一個正整數:16\n",
            "16可以被1整除\n",
            "因數個數目前有1個\n",
            "======\n",
            "16可以被2整除\n",
            "因數個數目前有2個\n",
            "======\n",
            "16可以被4整除\n",
            "因數個數目前有3個\n",
            "======\n",
            "16可以被8整除\n",
            "因數個數目前有4個\n",
            "======\n",
            "16可以被16整除\n",
            "因數個數目前有5個\n",
            "======\n",
            "### Answer ###\n",
            "16共有5個因數\n",
            "16不是質數\n"
          ],
          "name": "stdout"
        }
      ]
    },
    {
      "cell_type": "code",
      "metadata": {
        "id": "TORmT0anUXC3",
        "colab_type": "code",
        "colab": {
          "base_uri": "https://localhost:8080/",
          "height": 1000
        },
        "outputId": "239d28fc-0d02-4754-8a15-4f4f59599c61"
      },
      "source": [
        "i = 1\n",
        "while i<=100:\n",
        "  if i % 15 == 0:\n",
        "      print(\"Fizz Buzz\")\n",
        "  elif i % 5 == 0:\n",
        "      print(\"Buzz\")\n",
        "  elif i % 3 == 0:\n",
        "      print(\"Fizz\")\n",
        "  else:\n",
        "      print(i)\n",
        "  i+=1  "
      ],
      "execution_count": 22,
      "outputs": [
        {
          "output_type": "stream",
          "text": [
            "1\n",
            "2\n",
            "Fizz\n",
            "4\n",
            "Buzz\n",
            "Fizz\n",
            "7\n",
            "8\n",
            "Fizz\n",
            "Buzz\n",
            "11\n",
            "Fizz\n",
            "13\n",
            "14\n",
            "Fizz Buzz\n",
            "16\n",
            "17\n",
            "Fizz\n",
            "19\n",
            "Buzz\n",
            "Fizz\n",
            "22\n",
            "23\n",
            "Fizz\n",
            "Buzz\n",
            "26\n",
            "Fizz\n",
            "28\n",
            "29\n",
            "Fizz Buzz\n",
            "31\n",
            "32\n",
            "Fizz\n",
            "34\n",
            "Buzz\n",
            "Fizz\n",
            "37\n",
            "38\n",
            "Fizz\n",
            "Buzz\n",
            "41\n",
            "Fizz\n",
            "43\n",
            "44\n",
            "Fizz Buzz\n",
            "46\n",
            "47\n",
            "Fizz\n",
            "49\n",
            "Buzz\n",
            "Fizz\n",
            "52\n",
            "53\n",
            "Fizz\n",
            "Buzz\n",
            "56\n",
            "Fizz\n",
            "58\n",
            "59\n",
            "Fizz Buzz\n",
            "61\n",
            "62\n",
            "Fizz\n",
            "64\n",
            "Buzz\n",
            "Fizz\n",
            "67\n",
            "68\n",
            "Fizz\n",
            "Buzz\n",
            "71\n",
            "Fizz\n",
            "73\n",
            "74\n",
            "Fizz Buzz\n",
            "76\n",
            "77\n",
            "Fizz\n",
            "79\n",
            "Buzz\n",
            "Fizz\n",
            "82\n",
            "83\n",
            "Fizz\n",
            "Buzz\n",
            "86\n",
            "Fizz\n",
            "88\n",
            "89\n",
            "Fizz Buzz\n",
            "91\n",
            "92\n",
            "Fizz\n",
            "94\n",
            "Buzz\n",
            "Fizz\n",
            "97\n",
            "98\n",
            "Fizz\n",
            "Buzz\n"
          ],
          "name": "stdout"
        }
      ]
    },
    {
      "cell_type": "code",
      "metadata": {
        "id": "Rwbc2szDY5TO",
        "colab_type": "code",
        "colab": {}
      },
      "source": [
        ""
      ],
      "execution_count": 0,
      "outputs": []
    }
  ]
}